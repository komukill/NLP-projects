{
  "nbformat": 4,
  "nbformat_minor": 0,
  "metadata": {
    "colab": {
      "name": "4740_FA20_p2_im324_kl866.ipynb",
      "provenance": [],
      "collapsed_sections": []
    },
    "kernelspec": {
      "name": "python3",
      "display_name": "Python 3"
    }
  },
  "cells": [
    {
      "cell_type": "markdown",
      "metadata": {
        "id": "ZNdFlbLJoUXM"
      },
      "source": [
        "# Project 2: Span Identification with Sequence Labeling Models\n",
        "## CS4740/5740 Fall 2020\n",
        "\n",
        "### Project Submission Due: Oct 23rd\n",
        "Please submit **pdf file** of this notebook on **Gradescope**, and **ipynb** on **CMS**. For instructions on generating pdf and ipynb files, please refer to project 1 instructions.\n",
        "\n"
      ]
    },
    {
      "cell_type": "markdown",
      "metadata": {
        "id": "871f2XhgtoYX"
      },
      "source": [
        "Names: Komukill Loganathan, Ikra Monjur\n",
        "\n",
        "Netids: kl866, im324\n",
        "\n",
        "Don't forget to share your newly copied notebook with your partner!\n",
        "\n",
        "\n",
        "**Reminder: both of you can't work in this notebook at the same time from different computers/browser windows because of sync issues. We even suggest to close the tab with this notebook when you are not working on it so your partner doesn't get sync issues.**\n"
      ]
    },
    {
      "cell_type": "markdown",
      "metadata": {
        "id": "nISFx8ULuXMM"
      },
      "source": [
        "### Q0: Individual Member Contribution\n",
        "\n",
        "Briefly explain the contribution of individual group members here. Report if working loads are unfairly distributed.\n",
        "\n",
        "We met up and worked on the project together by pair-programming."
      ]
    },
    {
      "cell_type": "markdown",
      "metadata": {
        "id": "iguUiw0mor52"
      },
      "source": [
        "# Overview\n",
        "\n",
        "---\n",
        "\n",
        "In this project, you will implement a model that identifies relevant information in a text and tags it with the appropriate label. Particularly, the task of this project is **Propaganda Identification**. The given dataset contains (manual) annotations indicating fragments of text that exhibit one of a set of well-known [propaganda techniques](https://propaganda.qcri.org/annotations/definitions.html). Your task is to develop NLP models to identify these propagandistic spans of text automatically. We will treat this as a **sequence-tagging task**: for each token in the input text, assign a label $y\\in\\{0,1\\}$, such that *1 represents propagandistic text* and *0 represents non-propaganda*.   (A description of the original task formulation is [here](https://propaganda.qcri.org/ptc/).  We are working on a modified version of their \"span identification\" task.)\n",
        "\n",
        "For this project, you will implement two sequence labeling approaches:\n",
        "\n",
        "- Model 1 : a Hidden Markov Model (HMM)\n",
        "- Model 2 : a Maximum Entropy Markov Model (MEMM), which is an adaptation of an HMM in which a Logistic Regression classifier (also known as a MaxEnt classifier) is used to obtain the lexical generation probabilities (i.e., the observation/emission probability matrix, so \"observations\" == \"emissions\" == \"lexical generations\").  Feature engineering is strongly suggested. (Papers from the [Workshops on Figurative Language Processing](https://sites.google.com/view/figlang2020/) can provide good insights on feature selection for this task.) You can also refer to the J&M book. \n",
        "\n",
        "Implementation of the Viterbi algorithm (for finding the most likely tag sequence to assign to an input text) is required for both parts, so make sure that you understand it ASAP.\n",
        "\n",
        "You will implement and train two sequence tagging models, generate your predictions for the provided test set, and submit them to **Kaggle**. Please enter all code and answer the questions of this colab notebook.\n",
        "\n",
        "**Jurafsky & Martin reading on HMMs and MEMMs can be found in Ch. 8.3–8.5.** The code you write can be added anywhere in the document, but we implore you to keep it readable. You will be asked to describe and motivate your models in parts of the document. You will be graded on both the code and text you write; see grading details at the end of the document.\n"
      ]
    },
    {
      "cell_type": "markdown",
      "metadata": {
        "id": "q2z7TIHV3kCH"
      },
      "source": [
        "# Notes\n",
        "\n",
        "---\n",
        "\n",
        "1. Please read through the entire notebook before you start coding. That might inform your code structure.\n",
        "2. Grading breakdown is found at the end; please consult it.\n",
        "3. Google colab does **not** provide good synchronization; we do not recommend multiple people to work on the same notebook at the same time.\n",
        "4. The project is somewhat open ended. (\"But that's a good thing.  Really. It's more fun that way\", says Claire and Esin.) We will ask you to implement some model, but precise data structures and so on can be chosen by you. However, to integrate with Kaggle, you will need to submit Kaggle predictions using our tokenization code.  As a result, **it is probably easiest if you use our tokenization code for the entire project**.\n",
        "5. You will be asked to fill in your code at various points of the document. You will also be asked to answer questions that analyze your results and motivate your implementation. These questions are named Q1-Q8. You may create additional cells to insert code, text and images as necessary.\n",
        "6. Kaggle is not able to calculate *span-level* P/R/F1 measures, which is the standard way to evaluate this type of sequence-tagging task. And we don't actually care so much about the token-level tagging accuracy, which Kaggle **can** calculate.  In particular, there are many fewer propaganda tokens than non-propaganda ones, so always guessing \"non-propaganda\" would produce a very high accuracy.  So we are compromising by using token-level **weighted accuracy**.  Here is how it works:\n",
        "\n",
        "A **weighted accuracy** metric that favors finding propagandistic tokens over non-propagandistic ones. The weights for both classes are the inverse of their frequencies.  \n",
        "\n",
        "``` \n",
        "frac_propaganda = num_propaganda/num_labels   [in the answer key]\n",
        "weight_propaganda = 1/frac_propaganda  \n",
        "weight_non_propaganda = 1/(1-frac_propaganda)\n",
        "\n",
        "weighted_accuracy = \n",
        "   ((weight_propaganda * # propaganda correct) \n",
        "                      +\n",
        "   (weight_non_propaganda * # non_propaganda correct)) / \n",
        "   \n",
        "   ((weight_propaganda * num_propaganda) \n",
        "                      +\n",
        "   (weight_non_propaganda * num_non_propaganda))\n",
        "```  \n",
        "This is also known as the **macro average**, i.e., the average of the accuracy for each label type.\n"
      ]
    },
    {
      "cell_type": "markdown",
      "metadata": {
        "id": "sGG5rb9Hp6Yx"
      },
      "source": [
        "# Task and dataset\n",
        "\n",
        "---\n",
        "\n",
        "1. Obtain the data from Kaggle at https://www.kaggle.com/t/8a8030baefcc4d91b715f114353dba38.\n",
        "2. Unzip the data. Put it into your google drive, and mount it on colab as per below:"
      ]
    },
    {
      "cell_type": "code",
      "metadata": {
        "id": "c3dQChuccqfN",
        "outputId": "efe5a0b0-7c5f-4fe0-8fc4-9c5de012f5c6",
        "colab": {
          "base_uri": "https://localhost:8080/",
          "height": 88
        }
      },
      "source": [
        "from google.colab import drive\n",
        "import os\n",
        "drive.mount('/content/drive', force_remount=True)\n",
        "\n",
        "\n",
        "\n",
        "train_path = os.path.join(os.getcwd(), \"drive\", \"My Drive\", \"CS4740\", \"Project2\", \"p2-cs4740-propaganda\", \"train\", \"train\") # replace based on your Google drive organization\n",
        "test_path = os.path.join(os.getcwd(), \"drive\", \"My Drive\", \"CS4740\", \"Project2\", \"p2-cs4740-propaganda\", \"test\", \"test\") # replace based on your Google drive organization\n",
        "print(os.listdir(train_path)[:5])\n",
        "print(os.listdir(test_path)[:5])"
      ],
      "execution_count": 9,
      "outputs": [
        {
          "output_type": "stream",
          "text": [
            "Mounted at /content/drive\n",
            "['article999000565.task-si.labels', 'article788173482.task-si.labels', 'article695108099.txt', 'article716469423.txt', 'article701299732.txt']\n",
            "['article698092698.txt', 'article111111121.txt', 'article111111111.txt', 'article701837665.txt', 'article701939679.txt']\n"
          ],
          "name": "stdout"
        }
      ]
    },
    {
      "cell_type": "markdown",
      "metadata": {
        "id": "LW_okuMMO9w_"
      },
      "source": [
        "3. The *train* directory contains *article{XXX}.txt* files which are plaintext documents and also *label* files such as *article{XXX}.task-si.labels*. These label files correspond to the byte-span offests of each segment of propaganda in the associated article. (The tokenizer that we describe just below converts the byte-span representation of propagandistic text spans  into the token-level gold-standard labels that your sequence-tagging models require for training.) The test directory *only* contains articles; you will use your models to detect the propagandistic spans within them.  \n",
        "\n",
        "4. We provide a tokenizer for these documents. You **must** use this tokenizer as the labels that Kaggle expects are based upon this tokenization. The code below tokenizes each document and generates the appropriate token-level labels consistent with the associated *labels* file. (This is so that you do not need to perform any byte-level text processing.  In particular, the tokenizer  merges nested or overlapping propagandistic text spans from the article into a single segment. You really shouldn't have to look at the *lables* files at all.) The code uses python type annotations; these indicate the type of arguments the functions take.\n",
        "\n",
        "5. Documents are represented as a list of strings, each being a token. Labels are represented as a list of integers in {0,1}, 1 corresponding to a propagandistic token and 0 to not propaganda.\n",
        "\n"
      ]
    },
    {
      "cell_type": "code",
      "metadata": {
        "id": "gx5JbHlG0qmR",
        "outputId": "c7b16701-37ac-4e7e-a7b1-d8b203d6602c",
        "colab": {
          "base_uri": "https://localhost:8080/",
          "height": 51
        }
      },
      "source": [
        "import os\n",
        "from typing import List, Tuple\n",
        "\n",
        "from nltk import word_tokenize, sent_tokenize\n",
        "import nltk\n",
        "nltk.download('punkt')\n",
        "\n",
        "def read_txt(fname):\n",
        "  with open(fname) as open_article:\n",
        "    lines = open_article.read()\n",
        "  return lines\n",
        "\n",
        "def read_labels(labels : str) -> List[Tuple[int, int]]:\n",
        "\t\"processing of labels file\"\n",
        "\tlabels = labels.split(\"\\n\")[:-1]\n",
        "\tlabels = [tuple(map(int, l.split(\"\\t\")[1:])) for l in labels]\n",
        "\treturn labels\n",
        "\n",
        "def sort_and_merge_labels(labels : List[Tuple[int, int]]) -> List[Tuple[int, int]]:\n",
        "  \"sort labels, necessary for later splitting\"\n",
        "  if len(labels) == 0:\n",
        "    return labels\n",
        "  labels = list(sorted(labels, key = lambda t: t[0]))\n",
        "  # merge\n",
        "  curr = labels[0]\n",
        "  merged = []\n",
        "  for l in labels[1:]:\n",
        "      # if distinct, add\n",
        "      if l[0] > curr[1]:\n",
        "        merged.append(curr)\n",
        "        curr = l\n",
        "      # else merge\n",
        "      else:\n",
        "        curr = (curr[0], max(curr[1], l[1]))\n",
        "  merged.append(curr)\n",
        "  return merged\n",
        "\n",
        "def split_with_labels(labels : List[Tuple[int, int]], article : str) -> Tuple[List[str], List[int]]:\n",
        "  \"split text into segments based upon labels\"\n",
        "  if len(labels) == 0:\n",
        "    return [article], [0]\n",
        "  segments = []\n",
        "  binary_class = []\n",
        "  start = 0\n",
        "  for l_start, l_end in labels:\n",
        "    std_seg = article[start:l_start]\n",
        "    prop_seg = article[l_start:l_end]\n",
        "    segments.append(std_seg)\n",
        "    binary_class.append(0)\n",
        "    segments.append(prop_seg)\n",
        "    binary_class.append(1)\n",
        "    start = l_end\n",
        "  last_seg = article[start:]\n",
        "  segments.append(last_seg)\n",
        "  binary_class.append(0)\n",
        "  return segments, binary_class\n",
        "\n",
        "def remove_newline_fix_punc_seg(segments):\n",
        "  \" preprocessing necessry for tokenization to be consistent\"\n",
        "  segments = [s.replace(\"\\n\", \" \").replace(\".\", \" .\") for s in segments]\n",
        "  return segments\n",
        "\n",
        "def remove_newline_fix_punc_art(article):\n",
        "  \" preprocessing necessry for tokenization to be consistent\"\n",
        "  article = article.replace(\"\\n\", \" \").replace(\".\", \" .\")\n",
        "  return article\n",
        "\n",
        "def get_toks(input):\n",
        "  output = []\n",
        "  for toks in [list(map(str.lower, word_tokenize(sent))) for sent in sent_tokenize(input)]:\n",
        "    output += toks\n",
        "  return output\n",
        "\n",
        "# This is the function you may need to call\n",
        "def tokenize_article(article_file):\n",
        "  \"calls all functions above and perform sanity checks\"\n",
        "  article = read_txt(article_file)\n",
        "  article = remove_newline_fix_punc_art(article)\n",
        "  art_toks = get_toks(article)\n",
        "  return art_toks\n",
        "\n",
        "# This is the function you may need to call\n",
        "def master_tokenizer(article_file, labels_file):\n",
        "  \"calls all functions above and perform sanity checks\"\n",
        "\t# read and get labels\n",
        "  article = read_txt(article_file)\n",
        "  labels = read_txt(labels_file)\n",
        "  labels = read_labels(labels)\n",
        "  labels = sort_and_merge_labels(labels)\n",
        "  segments, binary_class = split_with_labels(labels, article)\n",
        "  article = remove_newline_fix_punc_art(article)\n",
        "  segments = remove_newline_fix_punc_seg(segments)\n",
        "  # sanity check\n",
        "  reconstructed = \"\"\n",
        "  for seg, lab in zip(segments, binary_class):\n",
        "    reconstructed += seg\n",
        "  assert reconstructed == article\n",
        "\t# tokenize\n",
        "  seg_toks = []\n",
        "  new_labels = []\n",
        "  for seg, label in zip(segments, binary_class):\n",
        "    new_toks = get_toks(seg)\n",
        "    seg_toks += new_toks\n",
        "    new_labels += [label for _ in range(len(new_toks))]\n",
        "\t# sanity check\n",
        "  art_toks = get_toks(article)\n",
        "  sanity = True\n",
        "  if len(art_toks) != len(seg_toks):\n",
        "    sanity = False\n",
        "  for i, (at, st, lab) in enumerate(zip(art_toks, seg_toks, new_labels)):\n",
        "    if at != st:\n",
        "      sanity = False\n",
        "      break\n",
        "  return seg_toks, new_labels, sanity\n",
        "\n",
        "\n"
      ],
      "execution_count": 35,
      "outputs": [
        {
          "output_type": "stream",
          "text": [
            "[nltk_data] Downloading package punkt to /root/nltk_data...\n",
            "[nltk_data]   Unzipping tokenizers/punkt.zip.\n"
          ],
          "name": "stdout"
        }
      ]
    },
    {
      "cell_type": "markdown",
      "metadata": {
        "id": "5xm1CmgGQFqM"
      },
      "source": [
        " 6. Execute the commands below to visualize the tokenization:"
      ]
    },
    {
      "cell_type": "code",
      "metadata": {
        "id": "2BsgakckQJzI",
        "outputId": "352e1781-08da-415f-c914-21c1e98a4cfd",
        "colab": {
          "base_uri": "https://localhost:8080/",
          "height": 54
        }
      },
      "source": [
        "article_file = \"article698018235.txt\"\n",
        "labels_file = \"article698018235.task-si.labels\"\n",
        "article_file = os.path.join(train_path, article_file)\n",
        "labels_file = os.path.join(train_path, labels_file)\n",
        "tokens, labels, _ = master_tokenizer(article_file, labels_file)\n",
        "\n",
        "print(len(tokens), len(labels), tokens[:10], labels[:20])"
      ],
      "execution_count": 36,
      "outputs": [
        {
          "output_type": "stream",
          "text": [
            "700 700 ['dan', 'fishback', ':', 'it', \"'s\", 'okay', 'to', 'boycott', 'israeli', 'plays'] [0, 0, 0, 0, 0, 0, 0, 0, 0, 0, 0, 0, 0, 0, 0, 0, 0, 0, 0, 0]\n"
          ],
          "name": "stdout"
        }
      ]
    },
    {
      "cell_type": "markdown",
      "metadata": {
        "id": "BQV44Fv4QrwT"
      },
      "source": [
        "7.  Provide some quantitative data exploration. Assess dataset size, documents lengths and class inbalance. Give some examples of sentences containing propaganda techniques."
      ]
    },
    {
      "cell_type": "code",
      "metadata": {
        "id": "-pn1BIeOfAkX",
        "outputId": "320f370a-62df-4a5e-a7f5-e61c363f667f",
        "colab": {
          "base_uri": "https://localhost:8080/",
          "height": 156
        }
      },
      "source": [
        "# code here\n",
        "train = os.listdir(train_path)\n",
        "train.sort()\n",
        "\n",
        "# number of files: \n",
        "len(train)\n",
        "\n",
        "# function to make paths and use master_tokenizer to tokenize article and label\n",
        "def make_tokens(article, label):\n",
        "  article_file = os.path.join(train_path, article)\n",
        "  label_file = os.path.join(train_path, label)\n",
        "  return master_tokenizer(article_file, label_file)\n",
        "\n",
        "# article from cell above\n",
        "print(tokens[47:70])\n",
        "print(labels[47:70])\n",
        "\n",
        "## article 5 - short text\n",
        "tokens5, labels5, _ = make_tokens(train[5],train[4])\n",
        "print(len(tokens5))\n",
        "print(labels5.count(1))\n",
        "print(labels5.count(0))\n",
        "\n",
        "## article 7 - long\n",
        "tokens7, labels7, _ = make_tokens(train[7],train[6])\n",
        "print(len(tokens7))\n",
        "print(labels7.count(1))"
      ],
      "execution_count": 37,
      "outputs": [
        {
          "output_type": "stream",
          "text": [
            "['the', 'american', 'jewish', 'historical', 'society', 'was', 'caught', 'collaborating', 'with', 'jvp', ';', 'a', 'radical', 'anti-israel', 'hate', 'group', 'with', 'links', 'to', 'anti-semitism', '.', 'here', \"'s\"]\n",
            "[0, 0, 0, 0, 0, 0, 0, 0, 0, 0, 0, 0, 1, 1, 1, 1, 0, 0, 0, 0, 0, 0, 0]\n",
            "192\n",
            "13\n",
            "179\n",
            "1388\n",
            "121\n"
          ],
          "name": "stdout"
        }
      ]
    },
    {
      "cell_type": "markdown",
      "metadata": {
        "id": "sO7go9ivDusU"
      },
      "source": [
        "### Q1: Initial data observations\n",
        "What are your initial observations of the dataset after you explore the dataset?\n",
        "\n",
        "**Answer:** We see more non-propagandistic words than propagandistic words across the training dataset. We found 520 files in the train dataset, 260 of them are articles and 260 of the rest are label files."
      ]
    },
    {
      "cell_type": "markdown",
      "metadata": {
        "id": "4NYvfchqqBf6"
      },
      "source": [
        "# Model 1: HMM Implementation\n",
        "\n",
        "---\n",
        "\n",
        "In this section, you will implement a HMM model for this task. We expect:\n",
        "\n",
        "\n",
        "1. An implementation of the **Viterbi algorithm** that can be used to infer token-level labels --- propaganda or not propaganda --- for an input document.   This process is commonly referred to as **decoding**.\n",
        "2. Code for counting and smoothing of labels and words as necessary to support the HMM decoding. (This is pretty much what you already know how to do from project 1.)\n",
        "\n",
        "\n",
        "The tokenization of documents can be performed with the code we provide above. We suggest you calculate probabilities in a log form.  Bigram Viterbi is O(sm^2) where s is the length of the sentence and m is the number of tags. Your implementation should have similar efficiency.\n",
        "\n",
        "Code of Academic Integrity:  We encourage collaboration regarding ideas, etc. However, please **do not copy code from online or share code with other students**. We will be running programmes to detect plagiarism."
      ]
    },
    {
      "cell_type": "code",
      "metadata": {
        "id": "EA-6xCV9F9Bs"
      },
      "source": [
        "# Your implementation here\n",
        "# we expect a function or class, mapping a sequence of tokens to a sequence of labels\n",
        "# this function or class will be called below\n",
        "\n",
        "'''\n",
        "tokenize_train tokenizes the given dataset\n",
        "[train]: dataset\n",
        "[unknown_handling]: boolean to indicate whether unknown words should be handled\n",
        "Returns the list of tokens, the corresponding labels, and the vocabulary set\n",
        "'''\n",
        "def tokenize_train(train, unknown_handling=True):\n",
        "  tokens = []\n",
        "  labels = []\n",
        "  word_set = set()\n",
        "\n",
        "  for i in range(0, len(train), 2):\n",
        "    token, label, _ = make_tokens(train[i+1], train[i])\n",
        "    processed_tokens = []\n",
        "    for tok in token:\n",
        "      if tok not in word_set and unknown_handling:\n",
        "        word_set.add(tok)\n",
        "        tok = \"<UNK>\"\n",
        "      processed_tokens.append(tok)\n",
        "    tokens.append(processed_tokens)\n",
        "    labels.append(label) \n",
        "    \n",
        "  return tokens, labels, word_set"
      ],
      "execution_count": 39,
      "outputs": []
    },
    {
      "cell_type": "code",
      "metadata": {
        "id": "tvexz2Z_Tc5-"
      },
      "source": [
        "from collections import Counter\n",
        "\n",
        "'''\n",
        "hmm_model creates the start, transition, and emission probability matrices for the hmm model\n",
        "  using add-k smoothing for the emission probabilities\n",
        "[tokens]: tokenized list of articles\n",
        "[labels]: labels for the tokens in the articles\n",
        "[word_set]: vocabulary set\n",
        "[k]: parameter for add-k smoothing\n",
        "Returns the probability matrices\n",
        "'''\n",
        "def hmm_model(tokens, labels, word_set, k):\n",
        "  ## start matrix P(t_1)\n",
        "  ## transition prob matrix P(t_i | t_i-1)\n",
        "  ## emission prob matrix P(w_i | t_i)\n",
        "  start_probs = Counter()\n",
        "  trans_probs = Counter()\n",
        "  labels_freq = Counter()\n",
        "  emiss_probs = Counter()\n",
        "\n",
        "  for j in range(0, len(labels)):\n",
        "    l = labels[j]\n",
        "    t = tokens[j]\n",
        "    start_probs[l[0]]+=1\n",
        "    labels_freq[l[0]]+=1\n",
        "    emiss_probs[(l[0], t[0])] += 1\n",
        "    for i in range(1, len(l)):\n",
        "      trans_probs[(l[i-1], l[i])] += 1\n",
        "      labels_freq[l[i]]+=1\n",
        "      emiss_probs[(l[i], t[i])] += 1\n",
        "\n",
        "  start_probs = {key: v / len(labels) for key,v in start_probs.items()}\n",
        "  trans_probs = {key: v / labels_freq[key[0]] for key,v in trans_probs.items()}\n",
        "\n",
        "  # add-k smoothing for emission probabilities\n",
        "  V = len(word_set)\n",
        "  emiss_probs = {key: (v + k) / (labels_freq[key[0]] + k*V) for key,v in emiss_probs.items()}\n",
        "\n",
        "  return start_probs, trans_probs, emiss_probs"
      ],
      "execution_count": 40,
      "outputs": []
    },
    {
      "cell_type": "code",
      "metadata": {
        "id": "z2_Opq87X9o7"
      },
      "source": [
        "import numpy as np\n",
        "import math\n",
        "\n",
        "'''\n",
        "calc_max calculates the maximum probabaility and the corresponding previous state given the observation\n",
        "[viter_mat]: viterbi matrix\n",
        "[t]: index of the current token\n",
        "[s]: current state for which we are calculating the probability for\n",
        "[obs_t]: the current token\n",
        "Returns the maximum probabaility and the corresponding previous state\n",
        "'''\n",
        "def calc_max(viter_mat, t, s, obs_t):\n",
        "  max = float('-inf')\n",
        "  argmax =-1\n",
        "  for s_prime in start_probs:\n",
        "    num = viter_mat[s_prime, t-1] + math.log(trans_probs[(s_prime, s)]) + math.log(emiss_probs[s, obs_t])\n",
        "    if num > max:\n",
        "      max = num\n",
        "      argmax = s_prime\n",
        "  return max, argmax\n",
        "\n",
        "##viterbi algo\n",
        "'''\n",
        "viterbi calculate the optimal path (implementation of the viterbi algorithm)\n",
        "[observation]: list of tokenized words\n",
        "Returns the best path and its probability\n",
        "'''\n",
        "def viterbi(observation):\n",
        "  viter_matrix = np.zeros((len(start_probs), len(observation)))\n",
        "  back_pointers = np.zeros((len(start_probs), len(observation)), dtype=int)\n",
        "  # number of states = 2 \n",
        "  for s in start_probs:\n",
        "    if (s, observation[0]) not in emiss_probs :\n",
        "      obs = '<UNK>'\n",
        "    else:\n",
        "      obs = observation[0]\n",
        "    viter_matrix[s, 0] = math.log(start_probs[s]) + math.log(emiss_probs[(s, obs)])\n",
        "    back_pointers[s, 0] = 0\n",
        "  for t in range(1, len(observation)):\n",
        "    for s in start_probs:\n",
        "      if (s, observation[t]) not in emiss_probs:\n",
        "        obs = '<UNK>'\n",
        "      else:\n",
        "        obs = observation[t]\n",
        "      viter_matrix[s, t], back_pointers[s, t] = calc_max(viter_matrix, t, s, obs)\n",
        "\n",
        "  bestpathprob = np.amax(viter_matrix[:,len(observation)-1])\n",
        "  bestpathpointer = np.argmax(viter_matrix[:,len(observation)-1])\n",
        "  bestpath = [bestpathpointer]\n",
        "\n",
        "  counter = len(observation)-1\n",
        "  while counter != 0:\n",
        "    bestpath.append(back_pointers[(bestpath[-1],counter)])\n",
        "    counter-=1\n",
        "  bestpath.reverse()\n",
        "\n",
        "  return bestpath, bestpathprob"
      ],
      "execution_count": 41,
      "outputs": []
    },
    {
      "cell_type": "markdown",
      "metadata": {
        "id": "2J8NdM_V_A4u"
      },
      "source": [
        "## Validation Step\n",
        "\n",
        "1. Create a validation set from the given dataset, i.e. a subset of (~10%) the training dataset that you only use for evaluating the models, not for training.  (You can think of the validation set as a sample test set.)\n",
        "2. Train your HMM model on the (remainder of the) training set and evaluate it on the validation set. Report **weighted accuracy**, which is explained in the *Notes* section above.\n",
        "\n",
        "Please also take a look into your misclassified cases, as we will be performing error analysis in the *Evaluation* section. We expect smoothing, unknown word handling and correct emission (i.e., lexical generaion) probabilities. \n",
        "\n",
        "In the *Kaggle Submission* section, there is code provided for generating the output file in the form required for Kaggle.  If you find it useful for computing weighted accuracy, you can use it here as well."
      ]
    },
    {
      "cell_type": "code",
      "metadata": {
        "id": "5hL6k81rHTho"
      },
      "source": [
        "'''\n",
        "run_viterbi runs the viterbi algorithm for all the articles in the given dataset\n",
        "[data]: list of articles\n",
        "Returns predictions from the viterbi and the true labels\n",
        "'''\n",
        "def run_viterbi(data):\n",
        "  data_tokens, data_labels, data_word_set = tokenize_train(data, unknown_handling=False)\n",
        "  viterbi_result = []\n",
        "  for i in range(len(data_tokens)):\n",
        "    article = data_tokens[i]\n",
        "    path, path_prob = viterbi(article)\n",
        "    viterbi_result.append((path, path_prob))\n",
        "  return viterbi_result, data_labels"
      ],
      "execution_count": 42,
      "outputs": []
    },
    {
      "cell_type": "code",
      "metadata": {
        "id": "0Lmx9z5WGAfq",
        "outputId": "b27b8357-f7c1-4595-e954-ebcd5f290ff3",
        "colab": {
          "base_uri": "https://localhost:8080/",
          "height": 34
        }
      },
      "source": [
        "# Evaluate/validate your model here\n",
        "# you may attach pictures of graphs etc.\n",
        "\n",
        "## validation set\n",
        "ninety_percent = int(len(train)*0.9)\n",
        "training_set = train[:ninety_percent]\n",
        "validation_set = train[ninety_percent:]\n",
        "print(len(validation_set))\n",
        "\n",
        "## make HMM model & train\n",
        "tokens, labels, word_set = tokenize_train(training_set)\n",
        "start_probs, trans_probs, emiss_probs = hmm_model(tokens, labels, word_set, 0.001)\n",
        "\n",
        "## run model on validation set\n",
        "viterbi_result_hmm, actual_labels = run_viterbi(validation_set)"
      ],
      "execution_count": 43,
      "outputs": [
        {
          "output_type": "stream",
          "text": [
            "52\n"
          ],
          "name": "stdout"
        }
      ]
    },
    {
      "cell_type": "code",
      "metadata": {
        "id": "u_hJBUD8HqOY",
        "outputId": "2e1828f6-0010-4fd4-a3ed-c0a1df6fa4c3",
        "colab": {
          "base_uri": "https://localhost:8080/",
          "height": 105
        }
      },
      "source": [
        "## error analysis on HMM\n",
        "valid_tokens, _, _ = tokenize_train(validation_set, unknown_handling=False)\n",
        "\n",
        "for j in range(1):\n",
        "  tokens_labeled = []\n",
        "  print(\"Article\", j)\n",
        "  print(\"predictions:\", viterbi_result_hmm[j][0])\n",
        "  print(\"actual:     \", actual_labels[j]) \n",
        "  for i in range(len(valid_tokens[j])):\n",
        "    token = valid_tokens[j][i]\n",
        "    pred_label = viterbi_result_hmm[j][0][i]\n",
        "    actual_label = actual_labels[j][i]\n",
        "    tokens_labeled.append((token, pred_label, actual_label))\n",
        "  print(tokens_labeled)"
      ],
      "execution_count": 44,
      "outputs": [
        {
          "output_type": "stream",
          "text": [
            "Article 0\n",
            "predictions: [1, 1, 1, 1, 1, 1, 1, 1, 1, 1, 1, 1, 1, 1, 1, 1, 1, 1, 1, 1, 1, 1, 1, 1, 1, 1, 1, 0, 0, 0, 0, 0, 0, 0, 0, 0, 0, 0, 0, 0, 0, 0, 0, 0, 0, 0, 1, 1, 1, 1, 1, 1, 1, 1, 1, 1, 1, 1, 1, 1, 1, 1, 1, 1, 1, 1, 1, 1, 1, 1, 1, 1, 1, 1, 1, 1, 1, 1, 1, 1, 1, 1, 1, 1, 1, 1, 1, 1, 1, 1, 1, 1, 1, 1, 1, 1, 1, 1, 1, 1, 1, 1, 1, 1, 1, 1, 1, 1, 1, 1, 1, 1, 1, 1, 1, 1, 1, 1, 1, 1, 1, 1, 1, 1, 1, 1, 1, 1, 1, 1, 1, 1, 1, 1, 1, 1, 1, 1, 1, 1, 1, 1, 1, 1, 1, 1, 1, 1, 1, 1, 1, 1, 1, 1, 1, 1, 1, 1, 1, 1, 1, 1, 1, 1, 1, 1, 1, 1, 1, 1, 1, 1, 1, 1, 1, 1, 1, 1, 1, 1, 1, 1, 1, 1, 1, 1, 1, 1, 1, 1, 1, 1, 1, 1, 1, 0, 0, 0, 0, 0, 0, 0, 0, 0, 0, 0, 0, 1, 1, 1, 1, 1, 1, 1, 1, 1, 1, 1, 1, 1, 1, 1, 1, 1, 1, 1, 1, 1, 1, 1, 1, 1, 1, 1, 1, 1, 1, 1, 1, 1, 1, 1, 1, 1, 1, 1, 1, 1, 1, 1, 1, 1, 1, 1, 1, 1, 1, 1, 1, 1, 1, 1, 1, 1, 1, 1, 1, 1, 1, 1, 0, 0, 0, 0, 0, 0, 0, 0, 0, 0, 0, 0, 0, 0, 0, 0, 0, 0, 0, 0, 0, 0, 0, 0, 0, 1, 1, 1, 1, 1, 1, 1, 1, 1, 1, 1, 1, 1, 1, 1, 1, 1, 1, 1, 1, 1, 1, 1, 1, 1, 1, 1, 1, 1, 1, 1, 1, 1, 1, 1, 1, 1, 1, 1, 1, 1, 1, 1, 1, 1, 1, 1, 1, 1, 1, 1, 0, 0, 0, 0, 0, 0, 0, 0, 0, 0, 0, 0, 0, 0, 0, 0, 0]\n",
            "actual:      [0, 0, 0, 0, 0, 0, 0, 0, 0, 0, 0, 0, 0, 0, 0, 0, 0, 0, 0, 0, 0, 0, 0, 0, 0, 0, 0, 0, 0, 0, 0, 0, 0, 0, 0, 0, 0, 0, 0, 0, 1, 1, 1, 1, 1, 1, 1, 0, 0, 0, 0, 0, 0, 0, 0, 0, 0, 0, 0, 0, 0, 0, 0, 0, 0, 0, 0, 0, 0, 0, 0, 0, 0, 0, 0, 0, 0, 0, 0, 0, 0, 0, 0, 0, 0, 0, 0, 0, 0, 0, 0, 0, 0, 0, 0, 0, 0, 0, 0, 0, 0, 0, 0, 0, 0, 0, 0, 0, 0, 0, 0, 0, 0, 0, 0, 0, 0, 0, 0, 0, 0, 0, 0, 0, 0, 0, 0, 0, 0, 0, 0, 0, 0, 0, 0, 0, 0, 0, 0, 0, 0, 0, 0, 0, 0, 0, 0, 0, 0, 0, 0, 0, 0, 0, 0, 0, 0, 0, 0, 0, 0, 0, 0, 0, 1, 1, 0, 0, 0, 0, 0, 0, 0, 0, 1, 0, 0, 0, 0, 0, 0, 0, 0, 0, 0, 0, 0, 0, 0, 0, 0, 0, 0, 1, 1, 1, 1, 0, 0, 0, 0, 0, 0, 0, 0, 0, 0, 0, 0, 0, 0, 0, 0, 0, 0, 0, 0, 0, 0, 0, 0, 0, 0, 0, 0, 0, 0, 0, 0, 0, 0, 0, 0, 0, 0, 0, 0, 0, 0, 0, 0, 0, 0, 0, 0, 0, 0, 0, 0, 0, 0, 0, 0, 0, 0, 0, 0, 0, 0, 0, 0, 0, 0, 0, 0, 0, 0, 0, 0, 0, 0, 0, 0, 0, 0, 0, 0, 0, 0, 0, 0, 0, 0, 0, 0, 0, 0, 0, 0, 0, 0, 0, 0, 0, 0, 0, 0, 0, 0, 0, 0, 0, 0, 0, 0, 0, 0, 0, 0, 0, 0, 0, 0, 0, 0, 0, 0, 0, 0, 0, 0, 0, 0, 0, 0, 0, 0, 0, 0, 0, 0, 0, 0, 0, 0, 0, 0, 0, 0, 0, 0, 0, 0, 0, 0, 0, 0, 0, 0, 0, 0, 0, 0, 0, 0, 0, 0, 0, 0, 0, 0, 0, 0]\n",
            "[('trump', 1, 0), ('threatens', 1, 0), ('military', 1, 0), ('closure', 1, 0), ('at', 1, 0), ('us', 1, 0), ('border', 1, 0), ('to', 1, 0), ('stop', 1, 0), ('migrants', 1, 0), ('personal', 1, 0), ('liberty', 1, 0), ('poll', 1, 0), ('exercise', 1, 0), ('your', 1, 0), ('right', 1, 0), ('to', 1, 0), ('vote', 1, 0), ('.', 1, 0), ('president', 1, 0), ('donald', 1, 0), ('trump', 1, 0), ('said', 1, 0), ('he', 1, 0), ('’', 1, 0), ('ll', 1, 0), ('mobilize', 1, 0), ('the', 0, 0), ('u', 0, 0), ('.s', 0, 0), ('.', 0, 0), ('military', 0, 0), ('to', 0, 0), ('close', 0, 0), ('the', 0, 0), ('border', 0, 0), ('with', 0, 0), ('mexico', 0, 0), ('to', 0, 0), ('stop', 0, 0), ('an', 0, 1), ('“', 0, 1), ('assault', 0, 1), ('”', 0, 1), ('on', 0, 1), ('the', 0, 1), ('nation', 1, 1), ('by', 1, 0), ('a', 1, 0), ('caravan', 1, 0), ('of', 1, 0), ('migrants', 1, 0), ('from', 1, 0), ('central', 1, 0), ('america', 1, 0), (',', 1, 0), ('according', 1, 0), ('to', 1, 0), ('a', 1, 0), ('report', 1, 0), ('by', 1, 0), ('bloomberg', 1, 0), ('.com', 1, 0), ('.', 1, 0), ('trump', 1, 0), (',', 1, 0), ('who', 1, 0), ('ran', 1, 0), ('in', 1, 0), ('2016', 1, 0), ('promising', 1, 0), ('to', 1, 0), ('tighten', 1, 0), ('u', 1, 0), ('.s', 1, 0), ('.', 1, 0), ('immigration', 1, 0), ('laws', 1, 0), ('and', 1, 0), ('stanch', 1, 0), ('the', 1, 0), ('inflow', 1, 0), ('of', 1, 0), ('undocumented', 1, 0), ('migrants', 1, 0), (',', 1, 0), ('has', 1, 0), ('called', 1, 0), ('for', 1, 0), ('cutting', 1, 0), ('off', 1, 0), ('foreign', 1, 0), ('aid', 1, 0), ('to', 1, 0), ('guatemala', 1, 0), (',', 1, 0), ('honduras', 1, 0), ('and', 1, 0), ('el', 1, 0), ('salvador', 1, 0), ('if', 1, 0), ('they', 1, 0), ('don', 1, 0), ('’', 1, 0), ('t', 1, 0), ('stop', 1, 0), ('the', 1, 0), ('migrants', 1, 0), ('.', 1, 0), ('he', 1, 0), ('claimed', 1, 0), ('thursday', 1, 0), ('—', 1, 0), ('without', 1, 0), ('providing', 1, 0), ('evidence', 1, 0), ('—', 1, 0), ('that', 1, 0), ('democrats', 1, 0), ('are', 1, 0), ('backing', 1, 0), ('the', 1, 0), ('human', 1, 0), ('movement', 1, 0), ('to', 1, 0), ('bolster', 1, 0), ('their', 1, 0), ('case', 1, 0), ('for', 1, 0), ('“', 1, 0), ('open', 1, 0), ('borders', 1, 0), ('and', 1, 0), ('existing', 1, 0), ('weak', 1, 0), ('laws', 1, 0), ('.', 1, 0), ('”', 1, 0), ('“', 1, 0), ('in', 1, 0), ('addition', 1, 0), ('to', 1, 0), ('stopping', 1, 0), ('all', 1, 0), ('payments', 1, 0), ('to', 1, 0), ('these', 1, 0), ('countries', 1, 0), (',', 1, 0), ('which', 1, 0), ('seem', 1, 0), ('to', 1, 0), ('have', 1, 0), ('almost', 1, 0), ('no', 1, 0), ('control', 1, 0), ('over', 1, 0), ('their', 1, 0), ('population', 1, 0), (',', 1, 0), ('i', 1, 0), ('must', 1, 0), (',', 1, 0), ('in', 1, 0), ('the', 1, 1), ('strongest', 1, 1), ('of', 1, 0), ('terms', 1, 0), (',', 1, 0), ('ask', 1, 0), ('mexico', 1, 0), ('to', 1, 0), ('stop', 1, 0), ('this', 1, 0), ('onslaught', 1, 1), ('—', 1, 0), ('and', 1, 0), ('if', 1, 0), ('unable', 1, 0), ('to', 1, 0), ('do', 1, 0), ('so', 1, 0), ('i', 1, 0), ('will', 1, 0), ('call', 1, 0), ('up', 1, 0), ('the', 1, 0), ('u', 1, 0), ('.s', 1, 0), ('.', 1, 0), ('military', 1, 0), ('and', 1, 0), ('close', 1, 0), ('our', 1, 1), ('southern', 1, 1), ('border', 0, 1), ('!', 0, 1), ('”', 0, 0), ('trump', 0, 0), ('said', 0, 0), ('on', 0, 0), ('twitter', 0, 0), ('.', 0, 0), ('days', 0, 0), ('ago', 0, 0), ('the', 0, 0), ('president', 0, 0), ('threatened', 1, 0), ('to', 1, 0), ('withhold', 1, 0), ('american', 1, 0), ('aid', 1, 0), ('from', 1, 0), ('honduras', 1, 0), (',', 1, 0), ('guatemala', 1, 0), ('and', 1, 0), ('el', 1, 0), ('salvador', 1, 0), ('if', 1, 0), ('the', 1, 0), ('flow', 1, 0), ('of', 1, 0), ('immigrants', 1, 0), ('wasn', 1, 0), ('’', 1, 0), ('t', 1, 0), ('stopped', 1, 0), ('.', 1, 0), ('this', 1, 0), ('prompted', 1, 0), ('the', 1, 0), ('honduran', 1, 0), ('foreign', 1, 0), ('ministry', 1, 0), ('to', 1, 0), ('urge', 1, 0), ('its', 1, 0), ('citizens', 1, 0), ('not', 1, 0), ('to', 1, 0), ('join', 1, 0), ('the', 1, 0), ('group', 1, 0), (',', 1, 0), ('according', 1, 0), ('to', 1, 0), ('reuters', 1, 0), ('.', 1, 0), ('honduran', 1, 0), ('president', 1, 0), ('juan', 1, 0), ('orlando', 1, 0), ('hernandez', 1, 0), ('said', 1, 0), ('in', 1, 0), ('a', 1, 0), ('public', 1, 0), ('address', 1, 0), ('on', 1, 0), ('tuesday', 1, 0), ('evening', 1, 0), ('some', 1, 0), ('hondurans', 1, 0), ('in', 1, 0), ('the', 1, 0), ('caravan', 1, 0), ('had', 1, 0), ('already', 1, 0), ('returned', 1, 0), ('home', 0, 0), ('and', 0, 0), ('the', 0, 0), ('government', 0, 0), ('was', 0, 0), ('preparing', 0, 0), ('to', 0, 0), ('support', 0, 0), ('them', 0, 0), ('.', 0, 0), ('he', 0, 0), ('did', 0, 0), ('not', 0, 0), ('specify', 0, 0), ('how', 0, 0), ('many', 0, 0), ('had', 0, 0), ('turned', 0, 0), ('back', 0, 0), ('.', 0, 0), ('still', 0, 0), (',', 0, 0), ('the', 0, 0), ('caravan', 0, 0), ('had', 0, 0), ('grown', 1, 0), ('to', 1, 0), ('about', 1, 0), ('4,000', 1, 0), ('people', 1, 0), ('today', 1, 0), ('.', 1, 0), ('nbc', 1, 0), ('news', 1, 0), ('reported', 1, 0), ('that', 1, 0), ('many', 1, 0), ('of', 1, 0), ('those', 1, 0), ('in', 1, 0), ('the', 1, 0), ('caravan', 1, 0), ('are', 1, 0), ('unaccompanied', 1, 0), ('children', 1, 0), ('.', 1, 0), ('mexico', 1, 0), ('is', 1, 0), ('said', 1, 0), ('to', 1, 0), ('have', 1, 0), ('deployed', 1, 0), ('500', 1, 0), ('additional', 1, 0), ('federal', 1, 0), ('police', 1, 0), ('to', 1, 0), ('its', 1, 0), ('border', 1, 0), ('with', 1, 0), ('guatemala', 1, 0), ('in', 1, 0), ('anticipation', 1, 0), ('of', 1, 0), ('the', 1, 0), ('caravan', 1, 0), ('’', 1, 0), ('s', 1, 0), ('arrival', 1, 0), ('.', 1, 0), ('on', 1, 0), ('wednesday', 1, 0), (',', 1, 0), ('congressman', 1, 0), ('matt', 1, 0), ('gaeetz', 1, 0), ('said', 0, 0), ('video', 0, 0), ('footage', 0, 0), ('shows', 0, 0), ('honduran', 0, 0), ('women', 0, 0), ('and', 0, 0), ('children', 0, 0), ('were', 0, 0), ('being', 0, 0), ('given', 0, 0), ('cash', 0, 0), ('to', 0, 0), ('join', 0, 0), ('the', 0, 0), ('caravan', 0, 0), ('.', 0, 0)]\n"
          ],
          "name": "stdout"
        }
      ]
    },
    {
      "cell_type": "code",
      "metadata": {
        "id": "iHZ18NgiMBJa"
      },
      "source": [
        "## evaluate validation set\n",
        "'''\n",
        "evaluate the predictions from the hmm model using weighted accuracy\n",
        "[viterbi_res]: predictions from the viterbi algorithm using hmm model\n",
        "[actual_labels]: the actual labels of the tokens\n",
        "Returns the weighted_accuracy\n",
        "'''\n",
        "def evaluate(viterbi_res, actual_labels):\n",
        "  num_propaganda = 0\n",
        "  num_labels = 0\n",
        "  for labels in actual_labels:\n",
        "    num_propaganda += labels.count(1)\n",
        "    num_labels += len(labels)\n",
        "\n",
        "  frac_propaganda = num_propaganda / num_labels\n",
        "  weight_propaganda = 1 / frac_propaganda\n",
        "  weight_nonpropaganda = 1 / (1-frac_propaganda)\n",
        "  \n",
        "  propaganda_correct = 0\n",
        "  non_propaganda_correct = 0\n",
        "  num_non_propaganda = num_labels - num_propaganda\n",
        "\n",
        "  for i in range(len(viterbi_res)):\n",
        "    for j in range(len(viterbi_res[i][0])):\n",
        "      if actual_labels[i][j] == viterbi_res[i][0][j]:\n",
        "        if viterbi_res[i][0][j] == 1:\n",
        "          propaganda_correct += 1\n",
        "        else:\n",
        "          non_propaganda_correct += 1\n",
        "  # print(\"False positives: \", num_non_propaganda - non_propaganda_correct)\n",
        "  # print(\"False negatives: \", num_propaganda - propaganda_correct)\n",
        "  weighted_accuracy = ((weight_propaganda * propaganda_correct) + (weight_nonpropaganda * non_propaganda_correct)) / ((weight_propaganda * num_propaganda) + (weight_nonpropaganda * num_non_propaganda))\n",
        "  return weighted_accuracy"
      ],
      "execution_count": 56,
      "outputs": []
    },
    {
      "cell_type": "code",
      "metadata": {
        "id": "56BH9SG1Rn7U",
        "outputId": "7360b1bf-2192-4586-ebdc-0202b9fce1c2",
        "colab": {
          "base_uri": "https://localhost:8080/",
          "height": 68
        }
      },
      "source": [
        "evaluate(viterbi_result_hmm, actual_labels)"
      ],
      "execution_count": 46,
      "outputs": [
        {
          "output_type": "stream",
          "text": [
            "False positives:  12304\n",
            "False negatives:  416\n"
          ],
          "name": "stdout"
        },
        {
          "output_type": "execute_result",
          "data": {
            "text/plain": [
              "0.5181856637763844"
            ]
          },
          "metadata": {
            "tags": []
          },
          "execution_count": 46
        }
      ]
    },
    {
      "cell_type": "markdown",
      "metadata": {
        "id": "YRLi5TDyuSx_"
      },
      "source": [
        "\n",
        "\n",
        "### Q2 : Explan your HMM implementations\n",
        "\n",
        "Q2.1: Explain here how you implemented HMMs (e.g. **which algorithms/data structures** you used). Make clear which parts were implemented from scratch vs. obtained via an existing package. \n",
        "\n",
        "**Answer:** We created our HMM model, i.e. our start probability matrix, transmission probability matrix, and emission probability matrix, using Counters data structure. We created a helper function that uses master_tokenize() to loop through all articles in the dataset and make tokens and labels lists. We handled unknown words by replacing the first occurrence of each word to be \\<UNK> token. We created a word types set to store the first occurrences of each word, i.e. the vocabulary set. We used the tokens list created to manually count the word and label frequencies to create the probability matrices. And then, we did add-k smoothing for emission probabilities. \n",
        "\n",
        "We created a viterbi function to get the optimal path and probability of given sequence of words, i.e. articles. We followed the viterbi algorithm pseudocode on J&M 8.4.5 and added unknown word handling. We also created a helper function to calculate the maximum likelihood of the current observation sequence at each time step. We stored the viterbi paths, backpointers to the path and the probabilities in a numpy array. All probabilities are calculated and stored in log base. \n",
        "\n",
        "Q2.2: Explain and motivate any design choices providing the intuition behind them (e.g. which methods you used for your HMM implementation, why?).\n",
        "\n",
        "**Answer:** We used add-k smoothing for the emission probability matrix to ensure that less seen words in the dataset can be taken into account with a better probability mass. We also did unknown-word handling to ensure unseen words in validation set and, later on, in the test set are accounted for by our model by providing them with a larger probability mass than zero. We did unknown word handling when we trained our hmm model as well as in our viterbi when we are predicting. We used Viterbi for decoding the HMM as provided in the problem statement.\n",
        "\n"
      ]
    },
    {
      "cell_type": "code",
      "metadata": {
        "id": "Llv4UWNYbXnd",
        "outputId": "35637078-9c44-4d82-973b-fe8483d99890",
        "colab": {
          "base_uri": "https://localhost:8080/",
          "height": 283
        }
      },
      "source": [
        "## ploting the weighted accuracies for different k values\n",
        "k_vals = []\n",
        "acc_vals = []\n",
        "for k in np.arange(0.001, 0.01, 0.001):\n",
        "  k_vals.append(k)\n",
        "  start_probs, trans_probs, emiss_probs = hmm_model(tokens, labels, word_set, k)\n",
        "  viterbi_result, actual_labels = run_viterbi(validation_set)\n",
        "  acc_vals.append(evaluate(viterbi_result, actual_labels))\n",
        "for k in np.arange(0.01, 2.1, 0.1):\n",
        "  k_vals.append(k)\n",
        "  start_probs, trans_probs, emiss_probs = hmm_model(tokens, labels, word_set, k)\n",
        "  viterbi_result, actual_labels = run_viterbi(validation_set)\n",
        "  acc_vals.append(evaluate(viterbi_result, actual_labels))\n",
        "\n",
        "import matplotlib.pyplot as plt\n",
        "plt.plot(k_vals, acc_vals)"
      ],
      "execution_count": 57,
      "outputs": [
        {
          "output_type": "execute_result",
          "data": {
            "text/plain": [
              "[<matplotlib.lines.Line2D at 0x7fa9e2475b00>]"
            ]
          },
          "metadata": {
            "tags": []
          },
          "execution_count": 57
        },
        {
          "output_type": "display_data",
          "data": {
            "image/png": "[encoded data removed]",
            "text/plain": [
              "<Figure size 432x288 with 1 Axes>"
            ]
          },
          "metadata": {
            "tags": [],
            "needs_background": "light"
          }
        }
      ]
    },
    {
      "cell_type": "markdown",
      "metadata": {
        "id": "DHbzRuil-yjG"
      },
      "source": [
        "### Q3: Results Analysis\n",
        "\n",
        "Q3.1: Explain here how you evaluated the models. Summarize the performance of your system and any variations that you experimented with on the validation datasets. Put the results into clearly labeled tables or diagrams and include your observations and analysis. \n",
        "\n",
        "**Answer:** We used 10% of the given dataset as the validation set to test the accuracy of our model. We trained our HMM model and then ran the viterbi algorithm on the validation set for the HMM model we created. We tried different k values for our add-k smoothing and noticed that a smaller value of k results in a higher accuracy. We measured accuracy by using the weighted accuracy formula provided above. The plot above is a plot with different k values in the x-axis vs their corresponding weighted accuracy in the y-axis. The trend shows that lower k-values produces a higher accuracy. We also see that the accuracy peaks when k is around 0.2 but the test accuracy (on kaggle) is much lower when k = 0.2. Thus, we chose our k to be 0.001 which gives us a much better accuracy on our test and slightly lower on our validation. When we lower our k value, we noticed that the accuracy did not change much.\n",
        "\n",
        "\n",
        "Q3.2: When did the system work well? When did it fail?  Any ideas as to why? How might you improve the system?\n",
        "\n",
        "**Answer:** The system failed when there was no smoothing and unknown words handling done for the model. This is because when there were unknown words in the validation dataset, the probability would simply be 0 which would render the model useless. After adding the smoothing and unknown words handling, the system worked well. We used add-k smoothing, as previously mentioned, and experimented with different k values. We started with k = 1 and then decreased the k value and noticed an imporovement in the accuracy. This is because a smaller k does not affect the overall probability as much and therefore, preserves the accuracy of the model. \n",
        "\n",
        "Q3.3: What is the effect of unknown word handling and smoothing?\n",
        "\n",
        "**Answer:** Adding unknown word handling and smoothing improves the model by accounting for unseen word in validation/test set. It ensures that the probabilities calulcated are always non-zero which would otherwise render the model useless.\n",
        "\n"
      ]
    },
    {
      "cell_type": "markdown",
      "metadata": {
        "id": "31e3sMHZrLWP"
      },
      "source": [
        "# Model 2: MEMM Implementation\n",
        "\n",
        "---\n",
        "\n",
        "\n",
        "In this section, you will implement a Maximum Entropy Markov Model (**MEMM**) to perform the same propaganda detection task. Your model should consist of a MaxEnt classifier with Viterbi decoding. \n",
        " \n",
        "1. We have already performed tokenizations for documents. You can either use a MaxEnt classifier from an existing package or write the MaxEnt code yourself. **Important note:  MaxEnt classifiers are statistically equivalent to multi-class logistic regression, so you can use packages for multi-class LR instead of MaxEnt.**\n",
        "\n",
        "2. Use the classifier to learn a probability $P(t_i|features)$. You may replace either the lexical generation probability – $P(w_i|t_i)$ – or the transition probability – $P(t_i|t_{i−1})$ – in the HMM with it, or you may replace the entire *lexical generation probability * transition probability*  calculation – $P (w_i|t_i) ∗ P (t_i|t_{i−1)} – $ in the HMM with it. \n",
        "\n",
        "3. To train such classifier, you need to pick some feature set. The content of the feature set is up to your choice. You should be trying different feature sets, and evaluate your choices on the validation set. Pick the feature set that performs overall the best according to the F1 measure.\n",
        "\n",
        "4. Use your own implementation of the **Viterbi algorithm**, which you can modify from the one you developed for the HMM model. You will need the probabilities that you obtain from the MaxEnt classifier. \n",
        "\n",
        "5. Remember to use same training and validation split when evaluating the MEMM to have a **fair comparison** with your **HMM model**.\n",
        "\n",
        "\n",
        "Please also take a look into your misclassified cases, as we will be performing error analysis in *Evaluation* section. \n",
        "\n"
      ]
    },
    {
      "cell_type": "markdown",
      "metadata": {
        "id": "PJIosHVJZ-1o"
      },
      "source": [
        "\n",
        "---\n",
        "Work flow summary:\n",
        "\n",
        "![alt text](https://drive.google.com/uc?export=view&id=14VfjW3yDyXLojWM_u0LeJYdDOSLkElBn)\n"
      ]
    },
    {
      "cell_type": "code",
      "metadata": {
        "id": "6xBYPGLUHH7n",
        "outputId": "2441a9bd-455e-478e-f49c-ccb7c8c98e9f",
        "colab": {
          "base_uri": "https://localhost:8080/",
          "height": 51
        }
      },
      "source": [
        "# Your model implementation here\n",
        "# we expect a function of class, mapping a sequence of tokens to a sequence of labels\n",
        "# this function or class will be called below\n",
        "#\n",
        "# You will need:\n",
        "# 1. Extract Features\n",
        "# 2. Train MaxEnt\n",
        "# 3. To call Viterbi \n",
        "\n",
        "## 1. Extract Features\n",
        "import nltk\n",
        "nltk.download('wordnet')\n",
        "from nltk.stem import WordNetLemmatizer\n",
        "\n",
        "lemma = WordNetLemmatizer()\n",
        "\n",
        "\"\"\"\n",
        "extract_features extracts features of the training data set\n",
        "[tokens]: list of tokenized articles\n",
        "[labels]: list of article labels\n",
        "[include_labels]: indicator of whether to include labels in the extracted features\n",
        "Returns a list of feature dictionaries for each word in the list of articles\n",
        "\"\"\"\n",
        "def extract_features(tokens, labels = None, include_labels = True):\n",
        "  # features - word, lemmatized word, prev_tag, next_tag, prev_word and next_word (original and lemmatized)\n",
        "  features_lst = []\n",
        "  for j in range(len(tokens)):\n",
        "    article = tokens[j]\n",
        "    if include_labels:\n",
        "      label = labels[j]\n",
        "    for i in range(len(article)):\n",
        "      word_dict = {}\n",
        "      word_dict[\"word\"] = article[i]\n",
        "      word_dict[\"lemma\"] = lemma.lemmatize(article[i])\n",
        "      if include_labels:\n",
        "        word_dict[\"prev_tag\"] = None if i == 0 else label[i-1]\n",
        "        word_dict[\"next_tag\"] = None if i == len(article)-1 else label[i+1]\n",
        "      word_dict[\"prev_word\"] = None if i == 0 else article[i-1]\n",
        "      word_dict[\"prev_word_lemma\"] = None if i == 0 else lemma.lemmatize(article[i-1])\n",
        "      word_dict[\"next_word\"] = None if i == len(article)-1 else article[i+1]\n",
        "      word_dict[\"next_word_lemma\"] = None if i == len(article)-1 else lemma.lemmatize(article[i+1])\n",
        "      if include_labels:\n",
        "        features_lst.append((word_dict, label[i]))\n",
        "      else:\n",
        "        features_lst.append(word_dict)\n",
        "  return features_lst\n",
        "\n",
        "# tokenize training data and extract features\n",
        "tokensMEMM, labelsMEMM, _ = tokenize_train(training_set, unknown_handling = False)\n",
        "train_features = extract_features(tokensMEMM, labels=labelsMEMM)"
      ],
      "execution_count": 48,
      "outputs": [
        {
          "output_type": "stream",
          "text": [
            "[nltk_data] Downloading package wordnet to /root/nltk_data...\n",
            "[nltk_data]   Unzipping corpora/wordnet.zip.\n"
          ],
          "name": "stdout"
        }
      ]
    },
    {
      "cell_type": "code",
      "metadata": {
        "id": "-KKPsKAWprpz",
        "outputId": "fe544e7c-e469-44ef-b748-9681a9420457",
        "colab": {
          "base_uri": "https://localhost:8080/",
          "height": 255
        }
      },
      "source": [
        "## 2. Train MaxEnt\n",
        "from nltk.classify import maxent\n",
        "\n",
        "classifier = maxent.MaxentClassifier.train(train_features, max_iter = 10)"
      ],
      "execution_count": 49,
      "outputs": [
        {
          "output_type": "stream",
          "text": [
            "  ==> Training (10 iterations)\n",
            "\n",
            "      Iteration    Log Likelihood    Accuracy\n",
            "      ---------------------------------------\n",
            "             1          -0.69315        0.098\n",
            "             2          -0.12948        0.905\n",
            "             3          -0.09486        0.954\n",
            "             4          -0.07184        0.979\n",
            "             5          -0.05758        0.984\n",
            "             6          -0.04828        0.986\n",
            "             7          -0.04187        0.987\n",
            "             8          -0.03722        0.988\n",
            "             9          -0.03370        0.989\n",
            "         Final          -0.03095        0.990\n"
          ],
          "name": "stdout"
        }
      ]
    },
    {
      "cell_type": "code",
      "metadata": {
        "id": "qDeJ6X1qvCcK"
      },
      "source": [
        "## 3. To call Viterbi \n",
        "\n",
        "\"\"\"\n",
        "calc_max_MEMM calculates the maximum probabaility and the corresponding previous state given the observation\n",
        "[viter_mat]: viterbi matrix\n",
        "[t]: index of the current token\n",
        "[s]: current state for which we are calculating the probability for\n",
        "[obs_t]: the current token\n",
        "[obs]: the current token after handling unknown word\n",
        "[num_states]: number of states, i.e. labels\n",
        "[prev_obs]: previous token \n",
        "Returns the maximum probabaility and the corresponding previous state\n",
        "\"\"\"\n",
        "def calc_max_MEMM(viter_mat, t, s, obs_t, obs, num_states, prev_obs):\n",
        "  max = float('-inf')\n",
        "  argmax = -1\n",
        "  for s_prime in range(num_states):\n",
        "    obs_feature_dict = {\\\n",
        "                        \"word\": obs_t, \\\n",
        "                        \"prev_tag\": s_prime, \\\n",
        "                        \"lemma\": lemma.lemmatize(obs_t), \\\n",
        "                        \"prev_word\": prev_obs, \\\n",
        "                        \"prev_word_lemma\": lemma.lemmatize(prev_obs), \\\n",
        "                        }\n",
        "    num = viter_mat[s_prime, t-1] + math.log(emiss_probs[(s, obs)]) + math.log(classifier.prob_classify(obs_feature_dict).prob(s))\n",
        "    if num > max:\n",
        "      max = num\n",
        "      argmax = s_prime\n",
        "  return max, argmax\n",
        "\n",
        "\"\"\"\n",
        "viterbi_MEMM calculates the optimal path (implementation of the viterbi algorithm)\n",
        "[observation]: list of tokenized words\n",
        "[classifier]: trained maxent classifer\n",
        "[num_states]: number of states/labels\n",
        "Returns the best path and its probability\n",
        "\"\"\"\n",
        "def viterbi_MEMM(observation, classifier=classifier, num_states=2):\n",
        "  #number of states = 2 \n",
        "  viter_matrix = np.zeros((num_states, len(observation)))\n",
        "  back_pointers = np.zeros((num_states, len(observation)), dtype=int)\n",
        "  for s in range(num_states):\n",
        "    if (s, observation[0]) not in emiss_probs:\n",
        "        obs = '<UNK>'\n",
        "    else:\n",
        "        obs = observation[0]\n",
        "    obs_feature_dict = { \\\n",
        "                        \"word\": observation[0], \\\n",
        "                        \"lemma\": lemma.lemmatize(observation[0]), \\\n",
        "                        \"prev_tag\":None, \\\n",
        "                        \"prev_word\": None, \\\n",
        "                        \"prev_word_lemma\": None, \\\n",
        "                        }\n",
        "    viter_matrix[s, 0] = math.log(emiss_probs[(s, obs)]) + math.log(classifier.prob_classify(obs_feature_dict).prob(s))\n",
        "    back_pointers[s, 0] = 0\n",
        "  for t in range(1, len(observation)):\n",
        "    for s in range(num_states):\n",
        "      if (s, observation[t]) not in emiss_probs:\n",
        "        obs = '<UNK>'\n",
        "      else:\n",
        "        obs = observation[t]\n",
        "      viter_matrix[s, t], back_pointers[s, t] = calc_max_MEMM( \\\n",
        "                                                              viter_matrix, t, s, observation[t], obs, num_states, \\\n",
        "                                                              observation[t-1])\n",
        "\n",
        "  bestpathprob = np.amax(viter_matrix[:,len(observation)-1])\n",
        "  bestpathpointer = np.argmax(viter_matrix[:,len(observation)-1])\n",
        "  bestpath = [bestpathpointer]\n",
        "\n",
        "  counter = len(observation)-1\n",
        "  while counter > 0:\n",
        "    bestpath.append(back_pointers[bestpath[-1],counter])\n",
        "    counter-=1\n",
        "  bestpath.reverse()\n",
        "\n",
        "  return bestpath, bestpathprob"
      ],
      "execution_count": 50,
      "outputs": []
    },
    {
      "cell_type": "code",
      "metadata": {
        "id": "u2gF2jXx0OX1"
      },
      "source": [
        "\"\"\"\n",
        "evaluate_MEMM the predictions from MEMM using weighted accuracy\n",
        "[viterbi_res]: predictions from viterbi_MEMM using memm\n",
        "[actual_labels]: the actual labels of the tokens\n",
        "Returns the weighted_accuracy\n",
        "\"\"\"\n",
        "def evaluate_MEMM(viterbi_res, actual_labels):\n",
        "  num_propaganda = actual_labels.count(1)\n",
        "  num_labels = len(actual_labels)\n",
        "\n",
        "  frac_propaganda = num_propaganda / num_labels\n",
        "  weight_propaganda = 1 / frac_propaganda\n",
        "  weight_nonpropaganda = 1 / (1-frac_propaganda)\n",
        "  \n",
        "  propaganda_correct = 0\n",
        "  non_propaganda_correct = 0\n",
        "  num_non_propaganda = num_labels - num_propaganda\n",
        "\n",
        "  for i in range(len(viterbi_res)):\n",
        "      if actual_labels[i] == viterbi_res[i]:\n",
        "        if viterbi_res[i] == 1:\n",
        "          propaganda_correct += 1\n",
        "        else:\n",
        "          non_propaganda_correct += 1\n",
        "  print(\"False positives: \", num_non_propaganda - non_propaganda_correct)\n",
        "  print(\"False negatives: \", num_propaganda - propaganda_correct)\n",
        "  weighted_accuracy = ((weight_propaganda * propaganda_correct) + (weight_nonpropaganda * non_propaganda_correct)) / ((weight_propaganda * num_propaganda) + (weight_nonpropaganda * num_non_propaganda))\n",
        "  return weighted_accuracy"
      ],
      "execution_count": 51,
      "outputs": []
    },
    {
      "cell_type": "code",
      "metadata": {
        "id": "TmUnuuxvHKXM",
        "outputId": "02a62ec7-64ef-4cfa-bae7-6aff2c2115fc",
        "colab": {
          "base_uri": "https://localhost:8080/",
          "height": 68
        }
      },
      "source": [
        "# Run your model on validation set\n",
        "# You will need to \n",
        "# 1. Call your function above to get a prediction result on Validation Set\n",
        "# 2. Report Metrics\n",
        "# (See if you need to modify your feature set)\n",
        "import itertools\n",
        "\n",
        "# tokenize validation set\n",
        "valid_tokens, valid_labels, _ = tokenize_train(validation_set, unknown_handling=False)\n",
        "\n",
        "# run viterbi_memm on validation set and make one contiguous list of predictions\n",
        "valid_path = []\n",
        "viterbi_result_memm = []\n",
        "for article in valid_tokens:\n",
        "  valid_best_path, _ = viterbi_MEMM(article)\n",
        "  viterbi_result_memm.append(valid_best_path)\n",
        "  valid_path += valid_best_path\n",
        "\n",
        "# flattening valid_labels list\n",
        "valid_labels_flat = list(itertools.chain(*valid_labels))\n",
        "\n",
        "# evaluate predictions for validation set \n",
        "evaluate_MEMM(valid_path, valid_labels_flat)"
      ],
      "execution_count": 52,
      "outputs": [
        {
          "output_type": "stream",
          "text": [
            "False positives:  3377\n",
            "False negatives:  2920\n"
          ],
          "name": "stdout"
        },
        {
          "output_type": "execute_result",
          "data": {
            "text/plain": [
              "0.48580699685652196"
            ]
          },
          "metadata": {
            "tags": []
          },
          "execution_count": 52
        }
      ]
    },
    {
      "cell_type": "code",
      "metadata": {
        "id": "LuJ0GLWkK-l0",
        "outputId": "b9464fb9-73d2-47a8-db6c-fccccae8bfac",
        "colab": {
          "base_uri": "https://localhost:8080/",
          "height": 105
        }
      },
      "source": [
        "## error analysis on MEMM\n",
        "\n",
        "for j in range(1):\n",
        "  tokens_labeled = []\n",
        "  print(\"Article \", j)\n",
        "  print(\"Predictions:   \", viterbi_result_memm[j])\n",
        "  print(\"Actual labels: \", valid_labels[j]) \n",
        "  for i in range(len(valid_tokens[j])):\n",
        "    token = valid_tokens[j][i]\n",
        "    pred_label = viterbi_result_memm[j][i]\n",
        "    actual_label = valid_labels[j][i]\n",
        "    tokens_labeled.append((token, pred_label, actual_label))\n",
        "  print(tokens_labeled)"
      ],
      "execution_count": 58,
      "outputs": [
        {
          "output_type": "stream",
          "text": [
            "Article  0\n",
            "Predictions:    [0, 0, 0, 0, 0, 0, 0, 0, 0, 1, 1, 1, 0, 0, 0, 0, 0, 0, 0, 0, 0, 0, 0, 0, 0, 1, 1, 0, 0, 0, 0, 0, 0, 0, 0, 0, 0, 0, 0, 0, 0, 0, 0, 0, 0, 0, 0, 0, 0, 0, 0, 1, 1, 1, 1, 0, 0, 0, 0, 0, 0, 0, 0, 0, 0, 0, 0, 1, 0, 0, 0, 0, 0, 0, 0, 0, 0, 0, 0, 0, 0, 0, 0, 0, 1, 0, 0, 0, 0, 0, 0, 0, 1, 1, 1, 1, 1, 1, 1, 1, 1, 1, 1, 1, 1, 1, 1, 1, 0, 0, 0, 1, 0, 0, 0, 0, 0, 0, 0, 0, 1, 1, 1, 1, 1, 1, 0, 0, 0, 0, 1, 1, 1, 1, 1, 1, 0, 0, 0, 0, 0, 0, 1, 1, 1, 0, 0, 0, 0, 0, 0, 0, 0, 0, 0, 0, 0, 0, 0, 0, 0, 0, 0, 0, 0, 1, 1, 1, 0, 0, 0, 0, 0, 0, 0, 0, 0, 0, 0, 0, 0, 0, 0, 0, 0, 0, 0, 0, 0, 0, 0, 0, 0, 0, 1, 0, 0, 0, 0, 0, 0, 0, 0, 0, 0, 0, 0, 1, 1, 1, 1, 1, 1, 1, 1, 1, 1, 1, 1, 1, 0, 0, 0, 0, 0, 0, 0, 1, 0, 0, 1, 1, 1, 1, 1, 1, 1, 0, 0, 0, 0, 0, 0, 0, 0, 0, 0, 1, 0, 0, 0, 1, 0, 0, 0, 0, 0, 0, 0, 0, 1, 1, 0, 0, 0, 0, 0, 0, 0, 1, 0, 0, 0, 0, 0, 0, 0, 0, 0, 0, 0, 0, 0, 0, 0, 0, 0, 0, 0, 0, 0, 0, 0, 0, 0, 1, 0, 0, 0, 0, 0, 0, 1, 1, 1, 0, 0, 0, 0, 0, 0, 0, 0, 0, 0, 0, 0, 0, 0, 0, 0, 1, 1, 1, 0, 0, 0, 0, 0, 0, 1, 0, 0, 0, 0, 0, 0, 0, 1, 0, 0, 1, 1, 1, 1, 1, 0, 0, 0, 0, 0, 0, 0, 0, 0, 0, 0, 0, 0, 0, 0, 0, 0]\n",
            "Actual labels:  [0, 0, 0, 0, 0, 0, 0, 0, 0, 0, 0, 0, 0, 0, 0, 0, 0, 0, 0, 0, 0, 0, 0, 0, 0, 0, 0, 0, 0, 0, 0, 0, 0, 0, 0, 0, 0, 0, 0, 0, 1, 1, 1, 1, 1, 1, 1, 0, 0, 0, 0, 0, 0, 0, 0, 0, 0, 0, 0, 0, 0, 0, 0, 0, 0, 0, 0, 0, 0, 0, 0, 0, 0, 0, 0, 0, 0, 0, 0, 0, 0, 0, 0, 0, 0, 0, 0, 0, 0, 0, 0, 0, 0, 0, 0, 0, 0, 0, 0, 0, 0, 0, 0, 0, 0, 0, 0, 0, 0, 0, 0, 0, 0, 0, 0, 0, 0, 0, 0, 0, 0, 0, 0, 0, 0, 0, 0, 0, 0, 0, 0, 0, 0, 0, 0, 0, 0, 0, 0, 0, 0, 0, 0, 0, 0, 0, 0, 0, 0, 0, 0, 0, 0, 0, 0, 0, 0, 0, 0, 0, 0, 0, 0, 0, 1, 1, 0, 0, 0, 0, 0, 0, 0, 0, 1, 0, 0, 0, 0, 0, 0, 0, 0, 0, 0, 0, 0, 0, 0, 0, 0, 0, 0, 1, 1, 1, 1, 0, 0, 0, 0, 0, 0, 0, 0, 0, 0, 0, 0, 0, 0, 0, 0, 0, 0, 0, 0, 0, 0, 0, 0, 0, 0, 0, 0, 0, 0, 0, 0, 0, 0, 0, 0, 0, 0, 0, 0, 0, 0, 0, 0, 0, 0, 0, 0, 0, 0, 0, 0, 0, 0, 0, 0, 0, 0, 0, 0, 0, 0, 0, 0, 0, 0, 0, 0, 0, 0, 0, 0, 0, 0, 0, 0, 0, 0, 0, 0, 0, 0, 0, 0, 0, 0, 0, 0, 0, 0, 0, 0, 0, 0, 0, 0, 0, 0, 0, 0, 0, 0, 0, 0, 0, 0, 0, 0, 0, 0, 0, 0, 0, 0, 0, 0, 0, 0, 0, 0, 0, 0, 0, 0, 0, 0, 0, 0, 0, 0, 0, 0, 0, 0, 0, 0, 0, 0, 0, 0, 0, 0, 0, 0, 0, 0, 0, 0, 0, 0, 0, 0, 0, 0, 0, 0, 0, 0, 0, 0, 0, 0, 0, 0, 0, 0]\n",
            "[('trump', 0, 0), ('threatens', 0, 0), ('military', 0, 0), ('closure', 0, 0), ('at', 0, 0), ('us', 0, 0), ('border', 0, 0), ('to', 0, 0), ('stop', 0, 0), ('migrants', 1, 0), ('personal', 1, 0), ('liberty', 1, 0), ('poll', 0, 0), ('exercise', 0, 0), ('your', 0, 0), ('right', 0, 0), ('to', 0, 0), ('vote', 0, 0), ('.', 0, 0), ('president', 0, 0), ('donald', 0, 0), ('trump', 0, 0), ('said', 0, 0), ('he', 0, 0), ('’', 0, 0), ('ll', 1, 0), ('mobilize', 1, 0), ('the', 0, 0), ('u', 0, 0), ('.s', 0, 0), ('.', 0, 0), ('military', 0, 0), ('to', 0, 0), ('close', 0, 0), ('the', 0, 0), ('border', 0, 0), ('with', 0, 0), ('mexico', 0, 0), ('to', 0, 0), ('stop', 0, 0), ('an', 0, 1), ('“', 0, 1), ('assault', 0, 1), ('”', 0, 1), ('on', 0, 1), ('the', 0, 1), ('nation', 0, 1), ('by', 0, 0), ('a', 0, 0), ('caravan', 0, 0), ('of', 0, 0), ('migrants', 1, 0), ('from', 1, 0), ('central', 1, 0), ('america', 1, 0), (',', 0, 0), ('according', 0, 0), ('to', 0, 0), ('a', 0, 0), ('report', 0, 0), ('by', 0, 0), ('bloomberg', 0, 0), ('.com', 0, 0), ('.', 0, 0), ('trump', 0, 0), (',', 0, 0), ('who', 0, 0), ('ran', 1, 0), ('in', 0, 0), ('2016', 0, 0), ('promising', 0, 0), ('to', 0, 0), ('tighten', 0, 0), ('u', 0, 0), ('.s', 0, 0), ('.', 0, 0), ('immigration', 0, 0), ('laws', 0, 0), ('and', 0, 0), ('stanch', 0, 0), ('the', 0, 0), ('inflow', 0, 0), ('of', 0, 0), ('undocumented', 0, 0), ('migrants', 1, 0), (',', 0, 0), ('has', 0, 0), ('called', 0, 0), ('for', 0, 0), ('cutting', 0, 0), ('off', 0, 0), ('foreign', 0, 0), ('aid', 1, 0), ('to', 1, 0), ('guatemala', 1, 0), (',', 1, 0), ('honduras', 1, 0), ('and', 1, 0), ('el', 1, 0), ('salvador', 1, 0), ('if', 1, 0), ('they', 1, 0), ('don', 1, 0), ('’', 1, 0), ('t', 1, 0), ('stop', 1, 0), ('the', 1, 0), ('migrants', 1, 0), ('.', 0, 0), ('he', 0, 0), ('claimed', 0, 0), ('thursday', 1, 0), ('—', 0, 0), ('without', 0, 0), ('providing', 0, 0), ('evidence', 0, 0), ('—', 0, 0), ('that', 0, 0), ('democrats', 0, 0), ('are', 0, 0), ('backing', 1, 0), ('the', 1, 0), ('human', 1, 0), ('movement', 1, 0), ('to', 1, 0), ('bolster', 1, 0), ('their', 0, 0), ('case', 0, 0), ('for', 0, 0), ('“', 0, 0), ('open', 1, 0), ('borders', 1, 0), ('and', 1, 0), ('existing', 1, 0), ('weak', 1, 0), ('laws', 1, 0), ('.', 0, 0), ('”', 0, 0), ('“', 0, 0), ('in', 0, 0), ('addition', 0, 0), ('to', 0, 0), ('stopping', 1, 0), ('all', 1, 0), ('payments', 1, 0), ('to', 0, 0), ('these', 0, 0), ('countries', 0, 0), (',', 0, 0), ('which', 0, 0), ('seem', 0, 0), ('to', 0, 0), ('have', 0, 0), ('almost', 0, 0), ('no', 0, 0), ('control', 0, 0), ('over', 0, 0), ('their', 0, 0), ('population', 0, 0), (',', 0, 0), ('i', 0, 0), ('must', 0, 0), (',', 0, 0), ('in', 0, 0), ('the', 0, 1), ('strongest', 1, 1), ('of', 1, 0), ('terms', 1, 0), (',', 0, 0), ('ask', 0, 0), ('mexico', 0, 0), ('to', 0, 0), ('stop', 0, 0), ('this', 0, 0), ('onslaught', 0, 1), ('—', 0, 0), ('and', 0, 0), ('if', 0, 0), ('unable', 0, 0), ('to', 0, 0), ('do', 0, 0), ('so', 0, 0), ('i', 0, 0), ('will', 0, 0), ('call', 0, 0), ('up', 0, 0), ('the', 0, 0), ('u', 0, 0), ('.s', 0, 0), ('.', 0, 0), ('military', 0, 0), ('and', 0, 0), ('close', 0, 0), ('our', 0, 1), ('southern', 1, 1), ('border', 0, 1), ('!', 0, 1), ('”', 0, 0), ('trump', 0, 0), ('said', 0, 0), ('on', 0, 0), ('twitter', 0, 0), ('.', 0, 0), ('days', 0, 0), ('ago', 0, 0), ('the', 0, 0), ('president', 0, 0), ('threatened', 1, 0), ('to', 1, 0), ('withhold', 1, 0), ('american', 1, 0), ('aid', 1, 0), ('from', 1, 0), ('honduras', 1, 0), (',', 1, 0), ('guatemala', 1, 0), ('and', 1, 0), ('el', 1, 0), ('salvador', 1, 0), ('if', 1, 0), ('the', 0, 0), ('flow', 0, 0), ('of', 0, 0), ('immigrants', 0, 0), ('wasn', 0, 0), ('’', 0, 0), ('t', 0, 0), ('stopped', 1, 0), ('.', 0, 0), ('this', 0, 0), ('prompted', 1, 0), ('the', 1, 0), ('honduran', 1, 0), ('foreign', 1, 0), ('ministry', 1, 0), ('to', 1, 0), ('urge', 1, 0), ('its', 0, 0), ('citizens', 0, 0), ('not', 0, 0), ('to', 0, 0), ('join', 0, 0), ('the', 0, 0), ('group', 0, 0), (',', 0, 0), ('according', 0, 0), ('to', 0, 0), ('reuters', 1, 0), ('.', 0, 0), ('honduran', 0, 0), ('president', 0, 0), ('juan', 1, 0), ('orlando', 0, 0), ('hernandez', 0, 0), ('said', 0, 0), ('in', 0, 0), ('a', 0, 0), ('public', 0, 0), ('address', 0, 0), ('on', 0, 0), ('tuesday', 1, 0), ('evening', 1, 0), ('some', 0, 0), ('hondurans', 0, 0), ('in', 0, 0), ('the', 0, 0), ('caravan', 0, 0), ('had', 0, 0), ('already', 0, 0), ('returned', 1, 0), ('home', 0, 0), ('and', 0, 0), ('the', 0, 0), ('government', 0, 0), ('was', 0, 0), ('preparing', 0, 0), ('to', 0, 0), ('support', 0, 0), ('them', 0, 0), ('.', 0, 0), ('he', 0, 0), ('did', 0, 0), ('not', 0, 0), ('specify', 0, 0), ('how', 0, 0), ('many', 0, 0), ('had', 0, 0), ('turned', 0, 0), ('back', 0, 0), ('.', 0, 0), ('still', 0, 0), (',', 0, 0), ('the', 0, 0), ('caravan', 0, 0), ('had', 0, 0), ('grown', 1, 0), ('to', 0, 0), ('about', 0, 0), ('4,000', 0, 0), ('people', 0, 0), ('today', 0, 0), ('.', 0, 0), ('nbc', 1, 0), ('news', 1, 0), ('reported', 1, 0), ('that', 0, 0), ('many', 0, 0), ('of', 0, 0), ('those', 0, 0), ('in', 0, 0), ('the', 0, 0), ('caravan', 0, 0), ('are', 0, 0), ('unaccompanied', 0, 0), ('children', 0, 0), ('.', 0, 0), ('mexico', 0, 0), ('is', 0, 0), ('said', 0, 0), ('to', 0, 0), ('have', 0, 0), ('deployed', 1, 0), ('500', 1, 0), ('additional', 1, 0), ('federal', 0, 0), ('police', 0, 0), ('to', 0, 0), ('its', 0, 0), ('border', 0, 0), ('with', 0, 0), ('guatemala', 1, 0), ('in', 0, 0), ('anticipation', 0, 0), ('of', 0, 0), ('the', 0, 0), ('caravan', 0, 0), ('’', 0, 0), ('s', 0, 0), ('arrival', 1, 0), ('.', 0, 0), ('on', 0, 0), ('wednesday', 1, 0), (',', 1, 0), ('congressman', 1, 0), ('matt', 1, 0), ('gaeetz', 1, 0), ('said', 0, 0), ('video', 0, 0), ('footage', 0, 0), ('shows', 0, 0), ('honduran', 0, 0), ('women', 0, 0), ('and', 0, 0), ('children', 0, 0), ('were', 0, 0), ('being', 0, 0), ('given', 0, 0), ('cash', 0, 0), ('to', 0, 0), ('join', 0, 0), ('the', 0, 0), ('caravan', 0, 0), ('.', 0, 0)]\n"
          ],
          "name": "stdout"
        }
      ]
    },
    {
      "cell_type": "markdown",
      "metadata": {
        "id": "fGkhL1imxpmH"
      },
      "source": [
        "### Q4: Implementation Details\n",
        "\n",
        "Q4.1: Explain here how you implemented the MEMM (e.g. which algorithms/data structures you used, what features are included). Make clear which parts were implemented from scratch vs. obtained via an existing package. \n",
        "\n",
        "\n",
        "**Answer:** We first created a list of feature dictionaries which includes the word, previous word, and next word, both original and lemmatized. We also included the previous tag, and the next tag as our features. In order to lemmatize the words, we used the nltk WordNetLemmatizer package. Then, we used our features list to train the MEMM using the nltk maximum entropy (maxent) package with a maximum iteration of 10. After getting our maximum entropy classifier, we implemented viterbi algorithm for MEMM. The implementation is similar to the HMM viterbi but to get the probabilities to calculate all path probabilities, we used our MEMM classifier multiplied by the emission probability calculated at when we created a HMM. We included emission probabilities along with maxent probabilities because without emission probabilities the maxent classifier and MEMM would always output the predictions to be 0, i.e. non-propagandistic because there are way more non-propagandistic words than not in the train dataset. Hence, the classifier is too biased towards non-propagandistic words. \n",
        "\n",
        "Q4.2: What features are considered most important by your MaxEnt Classifier? Why do you think these features make sense? Describe your experiments with feature sets.\n",
        "\n",
        "**Answer:** We found that the previous tags and the next tags are the most important features for our MaxEnt Classifier. We realized that adding these features to our features list increased the accuracy of our predictions. It makes sense for these features to be the most important because when we analyzed our dataset, we noticed that multiple propagandistic words usually occur together in between nonpropagandistic words. Thus, looking at the previous and next tags should help determine the tag of the current word (i.e if the word is between two propagandistic words, it is likely that that word is also propagandistic). We performed ablation study in order to validate which features are the most important. We tried features like part-of-speech tags and sentiment tags in addition to the features we are currently using.\n",
        "\n"
      ]
    },
    {
      "cell_type": "markdown",
      "metadata": {
        "id": "cb7pjD4drt28"
      },
      "source": [
        "### Q5: Results Analysis\n",
        "\n",
        "Q5.1: Explain here how you evaluated the MEMM model. Summarize the performance of your system and any variations that you experimented with the validation datasets. Put the results into clearly labeled tables or diagrams and include your observations and analysis. \n",
        "\n",
        "**Answer:** In order to evaluate our MEMM, we first trained on 90% of the given dataset and used the remaining 10% as our validation set. We used weighted accuracy shown above to evaluate our MEMM model on the validation set. In addition, we also tried different features list for training our model and then evaluated it on the validation set as well as test set submitted on Kaggle. The table below shows some of the feature combinations we tried and their respective accuracy on our validation set as well as test set (accuracy from Kaggle):"
      ]
    },
    {
      "cell_type": "code",
      "metadata": {
        "id": "MGa3t1uKrvox",
        "outputId": "2495f272-3acf-4b49-e0da-2af6f785bf9a",
        "colab": {
          "base_uri": "https://localhost:8080/",
          "height": 206
        }
      },
      "source": [
        "path = os.path.join(os.getcwd(), \"drive\", \"My Drive\", \"Colab Notebooks\", \"p2_table.png\")\n",
        "Image(filename=path)"
      ],
      "execution_count": 54,
      "outputs": [
        {
          "output_type": "execute_result",
          "data": {
            "image/png": "[encoded data removed]",
            "text/plain": [
              "<IPython.core.display.Image object>"
            ]
          },
          "metadata": {
            "tags": []
          },
          "execution_count": 54
        }
      ]
    },
    {
      "cell_type": "markdown",
      "metadata": {
        "id": "m_eDwiILvHGL"
      },
      "source": [
        "\n",
        "\n",
        "As shown in the table, features: \\{word, prev_word, next_word (original & lemmatized), prev_tag, next_tag} give us the highest accuracy on our test set on Kaggle and a good validation accuracy as well. Hence, we use this set of features for our final MEMM.\n",
        "We also experimented by changing the max_iter parameter of our MaxEnt Classifeir that we use to get the probabilities to find an appropriate training accuracy to avoid overfitting. \n",
        "\n",
        "Q5.2: An analysis on feature selection for the MEMM is required – e.g. what features **help most**, why? An **error analysis** is required – e.g. what sorts of errors occurred, why? \n",
        "\n",
        "**Answer:** The features that help most are the previous and next tags because when we analyzed our dataset, we noticed that multiple propagandistic words usually occur together in between nonpropagandistic words. Thus, looking at the previous and next tags help determine the tag of the current word (i.e if the word is between two propagandistic words, it is likely that that word is also propagandistic). We had also included the part-of-speech (pos) and sentiment of the word as part of our features because propagandistic words are most likely to be only of certain pos (i.e conjunctions are less likely to be propagandistic compared to adjectives). However, when we performed ablation study by removing pos tags and sentiment, the accuracy of the model increased. So, we realized that pos tags and sentiment did not matter as we initially thought and removed them from our feautres list. When we analyzed a few articles from our validation set, we noticed that many of the words were falsely being labeled as propaganda. There were 6923 false positives and 1614 false negaitves which makes sense after directly comparing the predictions and actual labels of a few articles from the validation set, more false positives were noticed. Also, there were clusters of progandistic words which makes sense but the clusters are much larger than what we had noticed in our training dataset. This is because the previous tag plays a large role when predicting the label so if the previous tag was 1, it is likely that the currect tag will also be 1 and this logic creates a larger cluster of 1 than the actual labels. The transitions from 0 to 1 and 1 to 0 usually have lower probabilities compare to transitions from 0 to 0 and 1 to 1.\n",
        "\n",
        "Q5.3: When did the system work well, when did it fail and any ideas as to why? How might you improve the system?\n",
        "\n",
        "**Answer:** The system worked well when we included the features list of current word, previous word, next word (original and lemmatized), previous tag, and next tag. The system failed when only maxent classifier probability was used in our MEMM viterbi calculation. This was because the system was too biased towards non-propagandistic words as there are way more of those than propagandistic words in the train dataset. Because of the severe class imbalance, our MEMM and viterbi would always predict all words to be non-propagandistic. To solve this issue, we used the emission probability calculated for our HMM multiplied by maxent classifier probability to boost the probability of a word being propagandistic. This improved the system and we had non-zero count of propandistic word prediction.\n",
        "\n",
        "The system improved when we included lemmatized words and the next tags (initially we only had original words and previous tags). Including the next tag improved the model because the label of the current word depends on the labels of the surrounding words. Hence, including both the previous and the next tags gives a better picture of this relationship to the model. Lemmatizing improved the model because only the root word should matter when determining if the word is propagandistic or not (i.e the propagandistic label of the words hate and hates should not vary just because of the suffix). We also noticed that increasing the maximum iteration of the MaxEnt classifier also improved our model. We initially used 5 iterations and then changing it to 10 improved the accuracy. We did not increase it more since we don't want overfitting of the model. \n",
        "\n"
      ]
    },
    {
      "cell_type": "code",
      "metadata": {
        "id": "9eWGI6-uFOc_",
        "outputId": "cbd2e3b4-a4e8-4ae4-c7d5-06111a42c7b9",
        "colab": {
          "base_uri": "https://localhost:8080/",
          "height": 122
        }
      },
      "source": [
        "## ERROR ANALYSIS\n",
        "\n",
        "# HMM\n",
        "# False positives:  12304\n",
        "# False negatives:  416\n",
        "\n",
        "# MEMM\n",
        "# False positives:  6923\n",
        "# False negatives:  1614\n",
        "\n",
        "for j in range(1):\n",
        "  tokens_labeled = []\n",
        "  print(\"Article\", j)\n",
        "  print(\"hmm   \", viterbi_result_hmm[j][0])\n",
        "  print(\"memm  \", viterbi_result_memm[j])\n",
        "  print(\"labels\", valid_labels[j]) \n",
        "  for i in range(len(valid_tokens[j])):\n",
        "    token = valid_tokens[j][i]\n",
        "    pred_hmm = viterbi_result_hmm[j][0][i]\n",
        "    pred_memm = viterbi_result_memm[j][i]\n",
        "    actual_label = valid_labels[j][i]\n",
        "    tokens_labeled.append((token, pred_hmm, pred_memm, actual_label))\n",
        "  print(tokens_labeled)"
      ],
      "execution_count": 59,
      "outputs": [
        {
          "output_type": "stream",
          "text": [
            "Article 0\n",
            "hmm    [1, 1, 1, 1, 1, 1, 1, 1, 1, 1, 1, 1, 1, 1, 1, 1, 1, 1, 1, 1, 1, 1, 1, 1, 1, 1, 1, 0, 0, 0, 0, 0, 0, 0, 0, 0, 0, 0, 0, 0, 0, 0, 0, 0, 0, 0, 1, 1, 1, 1, 1, 1, 1, 1, 1, 1, 1, 1, 1, 1, 1, 1, 1, 1, 1, 1, 1, 1, 1, 1, 1, 1, 1, 1, 1, 1, 1, 1, 1, 1, 1, 1, 1, 1, 1, 1, 1, 1, 1, 1, 1, 1, 1, 1, 1, 1, 1, 1, 1, 1, 1, 1, 1, 1, 1, 1, 1, 1, 1, 1, 1, 1, 1, 1, 1, 1, 1, 1, 1, 1, 1, 1, 1, 1, 1, 1, 1, 1, 1, 1, 1, 1, 1, 1, 1, 1, 1, 1, 1, 1, 1, 1, 1, 1, 1, 1, 1, 1, 1, 1, 1, 1, 1, 1, 1, 1, 1, 1, 1, 1, 1, 1, 1, 1, 1, 1, 1, 1, 1, 1, 1, 1, 1, 1, 1, 1, 1, 1, 1, 1, 1, 1, 1, 1, 1, 1, 1, 1, 1, 1, 1, 1, 1, 1, 1, 0, 0, 0, 0, 0, 0, 0, 0, 0, 0, 0, 0, 1, 1, 1, 1, 1, 1, 1, 1, 1, 1, 1, 1, 1, 1, 1, 1, 1, 1, 1, 1, 1, 1, 1, 1, 1, 1, 1, 1, 1, 1, 1, 1, 1, 1, 1, 1, 1, 1, 1, 1, 1, 1, 1, 1, 1, 1, 1, 1, 1, 1, 1, 1, 1, 1, 1, 1, 1, 1, 1, 1, 1, 1, 1, 0, 0, 0, 0, 0, 0, 0, 0, 0, 0, 0, 0, 0, 0, 0, 0, 0, 0, 0, 0, 0, 0, 0, 0, 0, 1, 1, 1, 1, 1, 1, 1, 1, 1, 1, 1, 1, 1, 1, 1, 1, 1, 1, 1, 1, 1, 1, 1, 1, 1, 1, 1, 1, 1, 1, 1, 1, 1, 1, 1, 1, 1, 1, 1, 1, 1, 1, 1, 1, 1, 1, 1, 1, 1, 1, 1, 0, 0, 0, 0, 0, 0, 0, 0, 0, 0, 0, 0, 0, 0, 0, 0, 0]\n",
            "memm   [0, 0, 0, 0, 0, 0, 0, 0, 0, 1, 1, 1, 0, 0, 0, 0, 0, 0, 0, 0, 0, 0, 0, 0, 0, 1, 1, 0, 0, 0, 0, 0, 0, 0, 0, 0, 0, 0, 0, 0, 0, 0, 0, 0, 0, 0, 0, 0, 0, 0, 0, 1, 1, 1, 1, 0, 0, 0, 0, 0, 0, 0, 0, 0, 0, 0, 0, 1, 0, 0, 0, 0, 0, 0, 0, 0, 0, 0, 0, 0, 0, 0, 0, 0, 1, 0, 0, 0, 0, 0, 0, 0, 1, 1, 1, 1, 1, 1, 1, 1, 1, 1, 1, 1, 1, 1, 1, 1, 0, 0, 0, 1, 0, 0, 0, 0, 0, 0, 0, 0, 1, 1, 1, 1, 1, 1, 0, 0, 0, 0, 1, 1, 1, 1, 1, 1, 0, 0, 0, 0, 0, 0, 1, 1, 1, 0, 0, 0, 0, 0, 0, 0, 0, 0, 0, 0, 0, 0, 0, 0, 0, 0, 0, 0, 0, 1, 1, 1, 0, 0, 0, 0, 0, 0, 0, 0, 0, 0, 0, 0, 0, 0, 0, 0, 0, 0, 0, 0, 0, 0, 0, 0, 0, 0, 1, 0, 0, 0, 0, 0, 0, 0, 0, 0, 0, 0, 0, 1, 1, 1, 1, 1, 1, 1, 1, 1, 1, 1, 1, 1, 0, 0, 0, 0, 0, 0, 0, 1, 0, 0, 1, 1, 1, 1, 1, 1, 1, 0, 0, 0, 0, 0, 0, 0, 0, 0, 0, 1, 0, 0, 0, 1, 0, 0, 0, 0, 0, 0, 0, 0, 1, 1, 0, 0, 0, 0, 0, 0, 0, 1, 0, 0, 0, 0, 0, 0, 0, 0, 0, 0, 0, 0, 0, 0, 0, 0, 0, 0, 0, 0, 0, 0, 0, 0, 0, 1, 0, 0, 0, 0, 0, 0, 1, 1, 1, 0, 0, 0, 0, 0, 0, 0, 0, 0, 0, 0, 0, 0, 0, 0, 0, 1, 1, 1, 0, 0, 0, 0, 0, 0, 1, 0, 0, 0, 0, 0, 0, 0, 1, 0, 0, 1, 1, 1, 1, 1, 0, 0, 0, 0, 0, 0, 0, 0, 0, 0, 0, 0, 0, 0, 0, 0, 0]\n",
            "labels [0, 0, 0, 0, 0, 0, 0, 0, 0, 0, 0, 0, 0, 0, 0, 0, 0, 0, 0, 0, 0, 0, 0, 0, 0, 0, 0, 0, 0, 0, 0, 0, 0, 0, 0, 0, 0, 0, 0, 0, 1, 1, 1, 1, 1, 1, 1, 0, 0, 0, 0, 0, 0, 0, 0, 0, 0, 0, 0, 0, 0, 0, 0, 0, 0, 0, 0, 0, 0, 0, 0, 0, 0, 0, 0, 0, 0, 0, 0, 0, 0, 0, 0, 0, 0, 0, 0, 0, 0, 0, 0, 0, 0, 0, 0, 0, 0, 0, 0, 0, 0, 0, 0, 0, 0, 0, 0, 0, 0, 0, 0, 0, 0, 0, 0, 0, 0, 0, 0, 0, 0, 0, 0, 0, 0, 0, 0, 0, 0, 0, 0, 0, 0, 0, 0, 0, 0, 0, 0, 0, 0, 0, 0, 0, 0, 0, 0, 0, 0, 0, 0, 0, 0, 0, 0, 0, 0, 0, 0, 0, 0, 0, 0, 0, 1, 1, 0, 0, 0, 0, 0, 0, 0, 0, 1, 0, 0, 0, 0, 0, 0, 0, 0, 0, 0, 0, 0, 0, 0, 0, 0, 0, 0, 1, 1, 1, 1, 0, 0, 0, 0, 0, 0, 0, 0, 0, 0, 0, 0, 0, 0, 0, 0, 0, 0, 0, 0, 0, 0, 0, 0, 0, 0, 0, 0, 0, 0, 0, 0, 0, 0, 0, 0, 0, 0, 0, 0, 0, 0, 0, 0, 0, 0, 0, 0, 0, 0, 0, 0, 0, 0, 0, 0, 0, 0, 0, 0, 0, 0, 0, 0, 0, 0, 0, 0, 0, 0, 0, 0, 0, 0, 0, 0, 0, 0, 0, 0, 0, 0, 0, 0, 0, 0, 0, 0, 0, 0, 0, 0, 0, 0, 0, 0, 0, 0, 0, 0, 0, 0, 0, 0, 0, 0, 0, 0, 0, 0, 0, 0, 0, 0, 0, 0, 0, 0, 0, 0, 0, 0, 0, 0, 0, 0, 0, 0, 0, 0, 0, 0, 0, 0, 0, 0, 0, 0, 0, 0, 0, 0, 0, 0, 0, 0, 0, 0, 0, 0, 0, 0, 0, 0, 0, 0, 0, 0, 0, 0, 0, 0, 0, 0, 0, 0]\n",
            "[('trump', 1, 0, 0), ('threatens', 1, 0, 0), ('military', 1, 0, 0), ('closure', 1, 0, 0), ('at', 1, 0, 0), ('us', 1, 0, 0), ('border', 1, 0, 0), ('to', 1, 0, 0), ('stop', 1, 0, 0), ('migrants', 1, 1, 0), ('personal', 1, 1, 0), ('liberty', 1, 1, 0), ('poll', 1, 0, 0), ('exercise', 1, 0, 0), ('your', 1, 0, 0), ('right', 1, 0, 0), ('to', 1, 0, 0), ('vote', 1, 0, 0), ('.', 1, 0, 0), ('president', 1, 0, 0), ('donald', 1, 0, 0), ('trump', 1, 0, 0), ('said', 1, 0, 0), ('he', 1, 0, 0), ('’', 1, 0, 0), ('ll', 1, 1, 0), ('mobilize', 1, 1, 0), ('the', 0, 0, 0), ('u', 0, 0, 0), ('.s', 0, 0, 0), ('.', 0, 0, 0), ('military', 0, 0, 0), ('to', 0, 0, 0), ('close', 0, 0, 0), ('the', 0, 0, 0), ('border', 0, 0, 0), ('with', 0, 0, 0), ('mexico', 0, 0, 0), ('to', 0, 0, 0), ('stop', 0, 0, 0), ('an', 0, 0, 1), ('“', 0, 0, 1), ('assault', 0, 0, 1), ('”', 0, 0, 1), ('on', 0, 0, 1), ('the', 0, 0, 1), ('nation', 1, 0, 1), ('by', 1, 0, 0), ('a', 1, 0, 0), ('caravan', 1, 0, 0), ('of', 1, 0, 0), ('migrants', 1, 1, 0), ('from', 1, 1, 0), ('central', 1, 1, 0), ('america', 1, 1, 0), (',', 1, 0, 0), ('according', 1, 0, 0), ('to', 1, 0, 0), ('a', 1, 0, 0), ('report', 1, 0, 0), ('by', 1, 0, 0), ('bloomberg', 1, 0, 0), ('.com', 1, 0, 0), ('.', 1, 0, 0), ('trump', 1, 0, 0), (',', 1, 0, 0), ('who', 1, 0, 0), ('ran', 1, 1, 0), ('in', 1, 0, 0), ('2016', 1, 0, 0), ('promising', 1, 0, 0), ('to', 1, 0, 0), ('tighten', 1, 0, 0), ('u', 1, 0, 0), ('.s', 1, 0, 0), ('.', 1, 0, 0), ('immigration', 1, 0, 0), ('laws', 1, 0, 0), ('and', 1, 0, 0), ('stanch', 1, 0, 0), ('the', 1, 0, 0), ('inflow', 1, 0, 0), ('of', 1, 0, 0), ('undocumented', 1, 0, 0), ('migrants', 1, 1, 0), (',', 1, 0, 0), ('has', 1, 0, 0), ('called', 1, 0, 0), ('for', 1, 0, 0), ('cutting', 1, 0, 0), ('off', 1, 0, 0), ('foreign', 1, 0, 0), ('aid', 1, 1, 0), ('to', 1, 1, 0), ('guatemala', 1, 1, 0), (',', 1, 1, 0), ('honduras', 1, 1, 0), ('and', 1, 1, 0), ('el', 1, 1, 0), ('salvador', 1, 1, 0), ('if', 1, 1, 0), ('they', 1, 1, 0), ('don', 1, 1, 0), ('’', 1, 1, 0), ('t', 1, 1, 0), ('stop', 1, 1, 0), ('the', 1, 1, 0), ('migrants', 1, 1, 0), ('.', 1, 0, 0), ('he', 1, 0, 0), ('claimed', 1, 0, 0), ('thursday', 1, 1, 0), ('—', 1, 0, 0), ('without', 1, 0, 0), ('providing', 1, 0, 0), ('evidence', 1, 0, 0), ('—', 1, 0, 0), ('that', 1, 0, 0), ('democrats', 1, 0, 0), ('are', 1, 0, 0), ('backing', 1, 1, 0), ('the', 1, 1, 0), ('human', 1, 1, 0), ('movement', 1, 1, 0), ('to', 1, 1, 0), ('bolster', 1, 1, 0), ('their', 1, 0, 0), ('case', 1, 0, 0), ('for', 1, 0, 0), ('“', 1, 0, 0), ('open', 1, 1, 0), ('borders', 1, 1, 0), ('and', 1, 1, 0), ('existing', 1, 1, 0), ('weak', 1, 1, 0), ('laws', 1, 1, 0), ('.', 1, 0, 0), ('”', 1, 0, 0), ('“', 1, 0, 0), ('in', 1, 0, 0), ('addition', 1, 0, 0), ('to', 1, 0, 0), ('stopping', 1, 1, 0), ('all', 1, 1, 0), ('payments', 1, 1, 0), ('to', 1, 0, 0), ('these', 1, 0, 0), ('countries', 1, 0, 0), (',', 1, 0, 0), ('which', 1, 0, 0), ('seem', 1, 0, 0), ('to', 1, 0, 0), ('have', 1, 0, 0), ('almost', 1, 0, 0), ('no', 1, 0, 0), ('control', 1, 0, 0), ('over', 1, 0, 0), ('their', 1, 0, 0), ('population', 1, 0, 0), (',', 1, 0, 0), ('i', 1, 0, 0), ('must', 1, 0, 0), (',', 1, 0, 0), ('in', 1, 0, 0), ('the', 1, 0, 1), ('strongest', 1, 1, 1), ('of', 1, 1, 0), ('terms', 1, 1, 0), (',', 1, 0, 0), ('ask', 1, 0, 0), ('mexico', 1, 0, 0), ('to', 1, 0, 0), ('stop', 1, 0, 0), ('this', 1, 0, 0), ('onslaught', 1, 0, 1), ('—', 1, 0, 0), ('and', 1, 0, 0), ('if', 1, 0, 0), ('unable', 1, 0, 0), ('to', 1, 0, 0), ('do', 1, 0, 0), ('so', 1, 0, 0), ('i', 1, 0, 0), ('will', 1, 0, 0), ('call', 1, 0, 0), ('up', 1, 0, 0), ('the', 1, 0, 0), ('u', 1, 0, 0), ('.s', 1, 0, 0), ('.', 1, 0, 0), ('military', 1, 0, 0), ('and', 1, 0, 0), ('close', 1, 0, 0), ('our', 1, 0, 1), ('southern', 1, 1, 1), ('border', 0, 0, 1), ('!', 0, 0, 1), ('”', 0, 0, 0), ('trump', 0, 0, 0), ('said', 0, 0, 0), ('on', 0, 0, 0), ('twitter', 0, 0, 0), ('.', 0, 0, 0), ('days', 0, 0, 0), ('ago', 0, 0, 0), ('the', 0, 0, 0), ('president', 0, 0, 0), ('threatened', 1, 1, 0), ('to', 1, 1, 0), ('withhold', 1, 1, 0), ('american', 1, 1, 0), ('aid', 1, 1, 0), ('from', 1, 1, 0), ('honduras', 1, 1, 0), (',', 1, 1, 0), ('guatemala', 1, 1, 0), ('and', 1, 1, 0), ('el', 1, 1, 0), ('salvador', 1, 1, 0), ('if', 1, 1, 0), ('the', 1, 0, 0), ('flow', 1, 0, 0), ('of', 1, 0, 0), ('immigrants', 1, 0, 0), ('wasn', 1, 0, 0), ('’', 1, 0, 0), ('t', 1, 0, 0), ('stopped', 1, 1, 0), ('.', 1, 0, 0), ('this', 1, 0, 0), ('prompted', 1, 1, 0), ('the', 1, 1, 0), ('honduran', 1, 1, 0), ('foreign', 1, 1, 0), ('ministry', 1, 1, 0), ('to', 1, 1, 0), ('urge', 1, 1, 0), ('its', 1, 0, 0), ('citizens', 1, 0, 0), ('not', 1, 0, 0), ('to', 1, 0, 0), ('join', 1, 0, 0), ('the', 1, 0, 0), ('group', 1, 0, 0), (',', 1, 0, 0), ('according', 1, 0, 0), ('to', 1, 0, 0), ('reuters', 1, 1, 0), ('.', 1, 0, 0), ('honduran', 1, 0, 0), ('president', 1, 0, 0), ('juan', 1, 1, 0), ('orlando', 1, 0, 0), ('hernandez', 1, 0, 0), ('said', 1, 0, 0), ('in', 1, 0, 0), ('a', 1, 0, 0), ('public', 1, 0, 0), ('address', 1, 0, 0), ('on', 1, 0, 0), ('tuesday', 1, 1, 0), ('evening', 1, 1, 0), ('some', 1, 0, 0), ('hondurans', 1, 0, 0), ('in', 1, 0, 0), ('the', 1, 0, 0), ('caravan', 1, 0, 0), ('had', 1, 0, 0), ('already', 1, 0, 0), ('returned', 1, 1, 0), ('home', 0, 0, 0), ('and', 0, 0, 0), ('the', 0, 0, 0), ('government', 0, 0, 0), ('was', 0, 0, 0), ('preparing', 0, 0, 0), ('to', 0, 0, 0), ('support', 0, 0, 0), ('them', 0, 0, 0), ('.', 0, 0, 0), ('he', 0, 0, 0), ('did', 0, 0, 0), ('not', 0, 0, 0), ('specify', 0, 0, 0), ('how', 0, 0, 0), ('many', 0, 0, 0), ('had', 0, 0, 0), ('turned', 0, 0, 0), ('back', 0, 0, 0), ('.', 0, 0, 0), ('still', 0, 0, 0), (',', 0, 0, 0), ('the', 0, 0, 0), ('caravan', 0, 0, 0), ('had', 0, 0, 0), ('grown', 1, 1, 0), ('to', 1, 0, 0), ('about', 1, 0, 0), ('4,000', 1, 0, 0), ('people', 1, 0, 0), ('today', 1, 0, 0), ('.', 1, 0, 0), ('nbc', 1, 1, 0), ('news', 1, 1, 0), ('reported', 1, 1, 0), ('that', 1, 0, 0), ('many', 1, 0, 0), ('of', 1, 0, 0), ('those', 1, 0, 0), ('in', 1, 0, 0), ('the', 1, 0, 0), ('caravan', 1, 0, 0), ('are', 1, 0, 0), ('unaccompanied', 1, 0, 0), ('children', 1, 0, 0), ('.', 1, 0, 0), ('mexico', 1, 0, 0), ('is', 1, 0, 0), ('said', 1, 0, 0), ('to', 1, 0, 0), ('have', 1, 0, 0), ('deployed', 1, 1, 0), ('500', 1, 1, 0), ('additional', 1, 1, 0), ('federal', 1, 0, 0), ('police', 1, 0, 0), ('to', 1, 0, 0), ('its', 1, 0, 0), ('border', 1, 0, 0), ('with', 1, 0, 0), ('guatemala', 1, 1, 0), ('in', 1, 0, 0), ('anticipation', 1, 0, 0), ('of', 1, 0, 0), ('the', 1, 0, 0), ('caravan', 1, 0, 0), ('’', 1, 0, 0), ('s', 1, 0, 0), ('arrival', 1, 1, 0), ('.', 1, 0, 0), ('on', 1, 0, 0), ('wednesday', 1, 1, 0), (',', 1, 1, 0), ('congressman', 1, 1, 0), ('matt', 1, 1, 0), ('gaeetz', 1, 1, 0), ('said', 0, 0, 0), ('video', 0, 0, 0), ('footage', 0, 0, 0), ('shows', 0, 0, 0), ('honduran', 0, 0, 0), ('women', 0, 0, 0), ('and', 0, 0, 0), ('children', 0, 0, 0), ('were', 0, 0, 0), ('being', 0, 0, 0), ('given', 0, 0, 0), ('cash', 0, 0, 0), ('to', 0, 0, 0), ('join', 0, 0, 0), ('the', 0, 0, 0), ('caravan', 0, 0, 0), ('.', 0, 0, 0)]\n"
          ],
          "name": "stdout"
        }
      ]
    },
    {
      "cell_type": "markdown",
      "metadata": {
        "id": "lQwPwqU3vMiS"
      },
      "source": [
        "\n",
        "#Comparing HMMs and MEMMs\n",
        "\n",
        "---\n",
        "\n",
        "\n",
        "### Q6:\n",
        "\n",
        "\n",
        "Compare here your results for your HMM and the MEMM. Which of them performs better? \n",
        "\n",
        "**Answer:** According to our weighted accuracies, MEMM performed better because MEMM takes more features into account while HMM only looks at the previous tag to determine the path probailities and the best path for the word sequence. MEMM also can take into account long-distance features while HMM cannot. This is how we were able to include the next word and the next tag as part of our features list for MEMM which improved the model.\n",
        "\n",
        "\n",
        "###Q7: Error Analysis\n",
        "Q7.1: Do some error analysis. What are error patterns you observed that the HMM makes but the MEMM does not? Try to justify why/why not?\n",
        "\n",
        "**Answer:** In the HMM, the false positives is much higher. The HMM has false positives of 12304 while the MEMM has false positives of 6923. The HMM false positives is almost double the false positves of MEMM. We also noticed this when we analyzed the first few articles in our validation set. The cluster of propagandistic words was much larger for the HMM predictions compared to the MEMM predictions. Another error pattern we noticed in the HMM is that many of the time punctuations are characterized as propagandistic if their previous token was labeled as propaganda while in MEMM that is not the case. In this example, ('sentence', HMM: 1, MEMM: 1), (':', HMM: 1, MEMM: 0), ('``', HMM: 1, MEMM: 0), we can see that even when both HMM and MEMM predict the word \"sentence\" to be propagandistic, the MEMM does not predict the punctuation to be propagandistic which is correct. Both of these errors most likely occur because in our HMM, the tag of the word is heavily dependent on the previous tag only while when we train our MEMM model, we are taking both the previous and the next tags and words as part of our features list. \n",
        "\n",
        "Q7.2: What are error patterns you observed that MEMM makes but the HMM does not? Try to justify what you observe?\n",
        "\n",
        "**Answer:** The MEMM predicts more false negatives than the HMM, specifically the MEMM has a false negative of 1614 while the HMM has a false negaitve of 416. For example, \n",
        "the words in the phrase \"the evil doings of israel\" from the validation set all have an actual label of propaganda. However, MEMM labels them as nonpropagandistic while HMM labels them as propagandistic. The reason that MEMM has more false negative than HMM is simply because HMM leans more towards labeling the words 1s as opposed to 0s which creates lower false negatives (but much higher false positives as discussed above). \n",
        "\n",
        "\n"
      ]
    },
    {
      "cell_type": "markdown",
      "metadata": {
        "id": "TpugxBD7RBy1"
      },
      "source": [
        "# Kaggle Submission \n",
        "---\n",
        "\n",
        "Using the best-performing system from among all of your HMM and MEMM models, generate predictions for the test set, and submit them to Kaggle at https://www.kaggle.com/t/8a8030baefcc4d91b715f114353dba38. Note, you **need** to use our tokenizer as the labels on Kaggle corresponds to these. Below, we provide a script that submits a random guess/all ones or all zeroes in the correct format. Note that you only need to provide a function which takes as input a sequence of tokens, and outputs a sequence of labels (in the form of integers  in {0,1}, 1 corresponding to propaganda). As a scoring metric on Kaggle, we use **weighted accuracy**, described in the *Notes* section towards the beginning of the notebook.\n"
      ]
    },
    {
      "cell_type": "code",
      "metadata": {
        "id": "uUekWsLbU6rs"
      },
      "source": [
        "import random\n",
        "from typing import Callable\n",
        "\n",
        "\n",
        "def submission_to_csv(binary_class : List[List[int]], fname : str):\n",
        "  # writes submission to CSV\n",
        "  new_binary = []\n",
        "  for classes in binary_class:\n",
        "    new_binary += classes\n",
        "  with open(fname, 'w') as file:\n",
        "    file.write('id,category\\n')\n",
        "    for i, line in enumerate(new_binary):\n",
        "      file.write('{},{}\\n'.format(i,line))\n",
        "\n",
        "\n",
        "def random_predictor(article_tokens : List[str]) -> List[int]:\n",
        "  # random predictor\n",
        "  output = []\n",
        "  for _ in range(len(article_tokens)):\n",
        "    output.append(random.randint(0,1))\n",
        "  return output\n",
        "\n",
        "def always_one(article_tokens : List[str]) -> List[int]:\n",
        "  # random predictor\n",
        "  output = []\n",
        "  for _ in range(len(article_tokens)):\n",
        "    output.append(1)\n",
        "  return output\n",
        "\n",
        "def always_zero(article_tokens : List[str]) -> List[int]:\n",
        "  # random predictor\n",
        "  output = []\n",
        "  for _ in range(len(article_tokens)):\n",
        "    output.append(0)\n",
        "  return output\n",
        "\n",
        "\n",
        "def generate_submission(predictor: Callable[[List[str]], List[int]], fname : str, test_path : str):\n",
        "  # generate a submission with random guesses\n",
        "  sample_submission = []\n",
        "  articles = os.listdir(test_path)\n",
        "  total, fail, targets, test_articles = 0,0, [], []\n",
        "  for article in sorted(articles):\n",
        "    article_file = os.path.join(test_path, article)\n",
        "    art_toks = tokenize_article(article_file)\n",
        "    curr_article, _ = predictor(art_toks)\n",
        "    sample_submission.append(curr_article)\n",
        "  submission_to_csv(sample_submission, fname)\n",
        "\n",
        "generate_submission(viterbi, \"hmm_submission.csv\", test_path)\n",
        "generate_submission(viterbi_MEMM,\"memm_submission.csv\", test_path)"
      ],
      "execution_count": null,
      "outputs": []
    },
    {
      "cell_type": "markdown",
      "metadata": {
        "id": "BEZP_FGivVRI"
      },
      "source": [
        "---\n",
        "### Q8: Competition Score\n",
        "\n",
        "Include here your **team name** and the **screenshot** of your best score from Kaggle.\n",
        "\n",
        "**Answer:** Team name is im324_kl866\n"
      ]
    },
    {
      "cell_type": "code",
      "metadata": {
        "id": "citSM9bRqIyZ",
        "outputId": "dffef351-25be-4ed3-d1cc-aa8f6f683d8e",
        "colab": {
          "base_uri": "https://localhost:8080/",
          "height": 64
        }
      },
      "source": [
        "from IPython.display import Image \n",
        "\n",
        "path = os.path.join(os.getcwd(), \"drive\", \"My Drive\", \"Colab Notebooks\", \"p2_pic.png\")\n",
        "Image(filename=path)"
      ],
      "execution_count": 10,
      "outputs": [
        {
          "output_type": "execute_result",
          "data": {
            "image/png": "[encoded data removed]",
            "text/plain": [
              "<IPython.core.display.Image object>"
            ]
          },
          "metadata": {
            "tags": []
          },
          "execution_count": 10
        }
      ]
    },
    {
      "cell_type": "markdown",
      "metadata": {
        "id": "_EHrCSEdyEnM"
      },
      "source": [
        "#Appendix\n",
        "---"
      ]
    },
    {
      "cell_type": "markdown",
      "metadata": {
        "id": "M9A79lUrs9xU"
      },
      "source": [
        "### Tentative grading guideline\n",
        "\n",
        "- (5 pts) Dataset exploration.\n",
        "- (20 pts) Design and implementation of the HMM model. Specifically, calculations of emission/transition probability, smoothing, handling of unknown words.\n",
        "- (20 pts) Design and implementation of the MEMM, as well as the feature set and how the feature extraction is done.\n",
        "- (20 pts) Experiment design and methodology. Investigations into feature sets and unknown word handling/smoothing.\n",
        "- (20 pts) Error analysis and comparison of **HMM** model with the **MEMM**. \n",
        "- (10 pts) Report: organization, clarity and including the **corresponding pieces of code for the implementations**.\n",
        "- (5 pts) **Submission to Kaggle**. In the report, you should add a screenshot of your team’s performance on kaggle leaderboard.\n",
        "\n"
      ]
    },
    {
      "cell_type": "code",
      "metadata": {
        "id": "N_1CtXEugBFE"
      },
      "source": [
        "## Create PDF"
      ],
      "execution_count": null,
      "outputs": []
    },
    {
      "cell_type": "code",
      "metadata": {
        "id": "o2BqOFP4f4-f"
      },
      "source": [
        "%%capture\n",
        "!apt-get install texlive texlive-xetex texlive-latex-extra pandoc\n",
        "!pip install pypandoc"
      ],
      "execution_count": 66,
      "outputs": []
    },
    {
      "cell_type": "code",
      "metadata": {
        "id": "ZIEPBq9Lf83Q"
      },
      "source": [
        "%%capture\n",
        "# the red text is a placeholder! Change it to your directory structure!\n",
        "!cp 'drive/My Drive/Colab Notebooks/4740_FA20_p2_im324_kl866.ipynb' ./ "
      ],
      "execution_count": 67,
      "outputs": []
    },
    {
      "cell_type": "code",
      "metadata": {
        "id": "Fa2CG4Nvf_Bs",
        "outputId": "4192ed15-0fb4-40de-c7e1-5105e84a72aa",
        "colab": {
          "base_uri": "https://localhost:8080/",
          "height": 221
        }
      },
      "source": [
        "# the red text is a placeholder! Change it to the name of this notebook!\n",
        "!jupyter nbconvert --to pdf \"4740_FA20_p2_im324_kl866.ipynb\""
      ],
      "execution_count": 68,
      "outputs": [
        {
          "output_type": "stream",
          "text": [
            "[NbConvertApp] Converting notebook 4740_FA20_p2_im324_kl866.ipynb to pdf\n",
            "[NbConvertApp] Support files will be in 4740_FA20_p2_im324_kl866_files/\n",
            "[NbConvertApp] Making directory ./4740_FA20_p2_im324_kl866_files\n",
            "[NbConvertApp] Making directory ./4740_FA20_p2_im324_kl866_files\n",
            "[NbConvertApp] Making directory ./4740_FA20_p2_im324_kl866_files\n",
            "[NbConvertApp] Writing 167825 bytes to ./notebook.tex\n",
            "[NbConvertApp] Building PDF\n",
            "[NbConvertApp] Running xelatex 3 times: [u'xelatex', u'./notebook.tex', '-quiet']\n",
            "[NbConvertApp] Running bibtex 1 time: [u'bibtex', u'./notebook']\n",
            "[NbConvertApp] WARNING | bibtex had problems, most likely because there were no citations\n",
            "[NbConvertApp] PDF successfully created\n",
            "[NbConvertApp] Writing 223481 bytes to 4740_FA20_p2_im324_kl866.pdf\n"
          ],
          "name": "stdout"
        }
      ]
    },
    {
      "cell_type": "code",
      "metadata": {
        "id": "PKIVF-26n3qj"
      },
      "source": [
        ""
      ],
      "execution_count": null,
      "outputs": []
    }
  ]
}