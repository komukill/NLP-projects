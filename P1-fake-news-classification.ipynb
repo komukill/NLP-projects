{
  "nbformat": 4,
  "nbformat_minor": 0,
  "metadata": {
    "colab": {
      "name": "4740_FA20_p1_im324_kl866.ipynb",
      "provenance": [],
      "collapsed_sections": [
        "9MVtIIyEzSS2",
        "ddOznZ7P2nlI",
        "HvET3mDvxL2j"
      ],
      "toc_visible": true
    },
    "kernelspec": {
      "name": "python3",
      "display_name": "Python 3"
    }
  },
  "cells": [
    {
      "cell_type": "markdown",
      "metadata": {
        "id": "tMR2in3Elmb0"
      },
      "source": [
        "# Project 1: Language Modeling and Fake News Classification"
      ]
    },
    {
      "cell_type": "markdown",
      "metadata": {
        "id": "Nw061uMf-vyu"
      },
      "source": [
        "Names: Ikra Monjur, Komukill Loganathan\n",
        "\n",
        "Netids: im324, kl866\n",
        "\n",
        "**After you make your own copy, please rename this notebook by clicking on it's name in the upper left corner.** It should be named: 4740_FA20_p1_netid1_netid2\n",
        "\n",
        "Don't forget to share your newly copied notebook with your partner!"
      ]
    },
    {
      "cell_type": "markdown",
      "metadata": {
        "id": "9e1Dnqk6GmdH"
      },
      "source": [
        "**Reminder: both of you can't work in this notebook at the same time from different computers/browser windows because of sync issues. We even suggest to close the tab with this notebook when you are not working on it so your partner doesn't get sync issues.**"
      ]
    },
    {
      "cell_type": "markdown",
      "metadata": {
        "id": "yVNUIk8d-oBn"
      },
      "source": [
        "## Introduction\n",
        "In this project we will build an **n-gram-based language model** for fake news classification. We will also investigate a feature-based **Naive Bayes model**. The task we are faced with is to **decide whether a news article is fake or real**. While some fake articles are so absurd and nonsensical that one can clearly guess they are fake, most fake news is actually quite hard to detect. [Various studies](https://pacscenter.stanford.edu/research/program-on-democracy-and-the-internet/deception-detection-accuracy-for-fake-news-headlines-on-social-media/) have shown that most people can have an error rate up to 50% depending on the theme of the article. \n",
        "\n",
        "To help us approach this problem, we will use NLP techniques covered thus far to frame this as a (supervised) binary classification task, where each article will have a label $y \\in \\{0,1\\}$, where *0 indicates a fake article* and *1 indicates a real one*. You will train and validate your two different models and then run them on a test data set with hidden $y$ labels. You will then submit the results on the test data set to Kaggle to participate in our class-wide competition!\n",
        "\n",
        "The project is divided into six parts:\n",
        "1. Dataset loading and preprocessing\n",
        "2. Unsmoothed n-gram language model (LM): build the unsmoothed n-gram language model using our Fake News corpus. \n",
        "3. Smoothed n-gram language model: build a smoothed version of the model from part 2.\n",
        "4. Perplexity: compute perplexity for both the unsmoothed and smoothed model\n",
        "5. Putting everything together and submitting the first model to Kaggle\n",
        "6. Naive Bayes: build a feature-based Naive Bayes model to perform the same classification task. Compare the LM with Naive Bayes and identify the pros and cons of each.\n",
        "\n",
        "**Logistics:** You should work in **groups of 2 students**. Students in the same group will get the same grade. Thus, you should make sure that everyone in your group contributes to the project. \n",
        "- **Remember to form groups on BOTH CMS and Gradescope** or not all group members will receive grades. You can use the Teammate Search option on Piazza to find a partner for this project.\n",
        "\n",
        "**Advice:** Please complete the written parts of this notebook in a clear and informative way. This is where you get to show us that you understand not only what you are doing but also why and how you are doing it. So be clear, organized and concise; avoid vagueness and excess verbiage. Spend time\n",
        "doing error analysis for the models. This is how you understand the advantages and drawbacks of the systems you build. \n",
        "- It's also useful to think about how the theory of n-grams/Naive Bayes bridges with the real world application we are building. Think about what you expect from these models based on your current understanding, and then see if your expectation aligns with empirical results that you'll get. "
      ]
    },
    {
      "cell_type": "markdown",
      "metadata": {
        "id": "HwgqdDbTPVeA"
      },
      "source": [
        "## General Guidelines\n",
        "In this project, we provide a few code snippets or starter points in case you need them. You DO NOT need to follow the structure. \n",
        "\n",
        "If you think you have a better idea, go for it. You can ADD, MODIFY, or DELETE any code snippets given to you.\n",
        "\n",
        "**Let's do this** 🚀"
      ]
    },
    {
      "cell_type": "markdown",
      "metadata": {
        "id": "LLmJ-2h5pr6n"
      },
      "source": [
        "### Dataset\n",
        "\n",
        "You are given a **News Corpus** on CMS, which consists of roughly the same amount of real and fake news articles.\n",
        "\n",
        "Real news example:\n",
        "```\n",
        "The OpenAI technology, known as GPT-2, is designed to predict the next word given all the previous words it is shown within some text. The language-based model has been trained on a dataset of 8 million web pages.\n",
        "```\n",
        "\n",
        "Fake news example:\n",
        "```\n",
        "In a shocking finding, scientist discovered a herd of unicorns living in a remote, previously unexplored valley, in the Andes Mountains. Even more surprising to the researchers was the fact that the unicorns spoke perfect English.\n",
        "```\n",
        "\n",
        "In the dataset folder you should find 4 files, training and validation splits for both real and fake news.\n",
        "\n",
        "The project will proceed generally as follows in terms of code development:\n",
        "1. Write code to train unsmoothed unigram and bigram language models for an arbitrary corpus\n",
        "2. Implement smoothing and unknown word handling. \n",
        "3. Implement the Perplexity calculation. \n",
        "4. Using 1, 2 and 3, together with the provided training and validation sets, develop a language-model-based approach for Fake News Classification.\n",
        "5. Apply your best language-model-based news classifier (from 4) to the\n",
        "provided test set. Submit the results to the online Kaggle competition. \n",
        "6. Use any existing implementation of Naive Bayes (and the provided training and validation sets) to create an additional Naive Bayes fake news classifier. Apply your best NB classifier to the provided test set. Submit the results to the separate Kaggle competition (for NB classifiers). \n",
        "\n",
        "We will progress towards these tasks throughout this notebook."
      ]
    },
    {
      "cell_type": "markdown",
      "metadata": {
        "id": "b2O1icKLpIdF"
      },
      "source": [
        "# Part 1: Preprocessing the Dataset\n",
        "In this part, you are going to do a few things:\n",
        "* Connect to the google drive where the data set is stored\n",
        "* Load and read files\n",
        "* Preprocess the text\n",
        "\n",
        "------\n",
        "**Please upload the dataset to each partner's individual Google Drive now.** We suggest using the same folder structure within Google Drive because the notebook is shared among you, so the code to load the data would have to be changed every time if folder structures are different. One folder structure might be: Google Drive/CS 4740/Project 1/Dataset/ or whatever works for you. See our code below for an example of how we load the data from Google Drive."
      ]
    },
    {
      "cell_type": "markdown",
      "metadata": {
        "id": "zqJXHkfirHCX"
      },
      "source": [
        "## 1.1 Connect to google drive"
      ]
    },
    {
      "cell_type": "code",
      "metadata": {
        "id": "og--UAtbrP4-",
        "outputId": "123c3ca3-a408-4acb-aea5-26f80057b40b",
        "colab": {
          "base_uri": "https://localhost:8080/",
          "height": 34
        }
      },
      "source": [
        "from google.colab import drive\n",
        "drive.mount('/content/drive', force_remount=True)"
      ],
      "execution_count": null,
      "outputs": [
        {
          "output_type": "stream",
          "text": [
            "Mounted at /content/drive\n"
          ],
          "name": "stdout"
        }
      ]
    },
    {
      "cell_type": "markdown",
      "metadata": {
        "id": "yspKotLCr8kj"
      },
      "source": [
        "## 1.2 Load and read files\n",
        "First, let's install [NLTK](https://www.nltk.org/), a very widely package for NLP preprocessing (and other tasks) for Python."
      ]
    },
    {
      "cell_type": "code",
      "metadata": {
        "id": "HyUwo9CthoiW",
        "outputId": "150a7c5e-1b9d-462d-8eb5-4a8ee252fe80",
        "colab": {
          "base_uri": "https://localhost:8080/",
          "height": 102
        }
      },
      "source": [
        "!pip install -U nltk"
      ],
      "execution_count": null,
      "outputs": [
        {
          "output_type": "stream",
          "text": [
            "Requirement already up-to-date: nltk in /usr/local/lib/python3.6/dist-packages (3.5)\n",
            "Requirement already satisfied, skipping upgrade: regex in /usr/local/lib/python3.6/dist-packages (from nltk) (2019.12.20)\n",
            "Requirement already satisfied, skipping upgrade: joblib in /usr/local/lib/python3.6/dist-packages (from nltk) (0.16.0)\n",
            "Requirement already satisfied, skipping upgrade: click in /usr/local/lib/python3.6/dist-packages (from nltk) (7.1.2)\n",
            "Requirement already satisfied, skipping upgrade: tqdm in /usr/local/lib/python3.6/dist-packages (from nltk) (4.41.1)\n"
          ],
          "name": "stdout"
        }
      ]
    },
    {
      "cell_type": "markdown",
      "metadata": {
        "id": "UNdLcCH9hpYX"
      },
      "source": [
        "Then we read and load data."
      ]
    },
    {
      "cell_type": "code",
      "metadata": {
        "id": "CDIzMEQ0sMqK",
        "outputId": "7278b59d-6ace-480b-f1cc-7189a6204c8a",
        "colab": {
          "base_uri": "https://localhost:8080/",
          "height": 51
        }
      },
      "source": [
        "import os\n",
        "import io\n",
        "from nltk import word_tokenize, sent_tokenize\n",
        "import nltk\n",
        "nltk.download('punkt')\n",
        "\n",
        "root_path = os.path.join(os.getcwd(), \"drive\", \"My Drive/CS4740/Project1\") # replace based on your Google drive organization\n",
        "dataset_path = os.path.join(root_path, \"real_fake\") # same here\n",
        "\n",
        "with io.open(os.path.join(dataset_path, \"trueDataTrain.txt\"), encoding='utf8') as real_file:\n",
        "  real_news = real_file.read()\n",
        "with io.open(os.path.join(dataset_path, \"trueDataValidation.txt\"), encoding='utf8') as real_file:\n",
        "  real_news_validation = real_file.read()\n",
        "with io.open(os.path.join(dataset_path, \"fakeDataTrain.txt\"), encoding='utf8') as fake_file:\n",
        "  fake_news = fake_file.read()\n",
        "with io.open(os.path.join(dataset_path, \"fakeDataValidation.txt\"), encoding='utf8') as real_file:\n",
        "  fake_news_validation = real_file.read()\n",
        "\n",
        "tokenized_real_news_training = [list(map(str.lower, word_tokenize(sent))) for sent in sent_tokenize(real_news)]\n",
        "tokenized_fake_news_training = [list(map(str.lower, word_tokenize(sent))) for sent in sent_tokenize(fake_news)]\n",
        "tokenized_real_news_validation = [list(map(str.lower, word_tokenize(sent))) for sent in sent_tokenize(real_news_validation)]\n",
        "tokenized_fake_news_validation = [list(map(str.lower, word_tokenize(sent))) for sent in sent_tokenize(fake_news_validation)]"
      ],
      "execution_count": 62,
      "outputs": [
        {
          "output_type": "stream",
          "text": [
            "[nltk_data] Downloading package punkt to /root/nltk_data...\n",
            "[nltk_data]   Package punkt is already up-to-date!\n"
          ],
          "name": "stderr"
        }
      ]
    },
    {
      "cell_type": "markdown",
      "metadata": {
        "id": "miP2sevQbPbs"
      },
      "source": [
        "Sanity checks for our real and fake training sets"
      ]
    },
    {
      "cell_type": "code",
      "metadata": {
        "id": "BP8TzVmBj95T",
        "outputId": "67c823b2-f98a-4aa2-dc95-7536251b855e",
        "colab": {
          "base_uri": "https://localhost:8080/",
          "height": 765
        }
      },
      "source": [
        "tokenized_real_news_training[0]"
      ],
      "execution_count": null,
      "outputs": [
        {
          "output_type": "execute_result",
          "data": {
            "text/plain": [
              "['london',\n",
              " '(',\n",
              " 'reuters',\n",
              " ')',\n",
              " '-',\n",
              " 'britain',\n",
              " 'is',\n",
              " 'seeking',\n",
              " 'to',\n",
              " 'build',\n",
              " 'on',\n",
              " 'the',\n",
              " 'recent',\n",
              " 'momentum',\n",
              " 'in',\n",
              " 'the',\n",
              " 'brexit',\n",
              " 'divorce',\n",
              " 'talks',\n",
              " 'with',\n",
              " 'the',\n",
              " 'european',\n",
              " 'union',\n",
              " 'before',\n",
              " 'a',\n",
              " 'summit',\n",
              " 'next',\n",
              " 'month',\n",
              " ',',\n",
              " 'a',\n",
              " 'spokeswoman',\n",
              " 'for',\n",
              " 'britain',\n",
              " 's',\n",
              " 'department',\n",
              " 'for',\n",
              " 'exiting',\n",
              " 'the',\n",
              " 'european',\n",
              " 'union',\n",
              " 'said',\n",
              " 'on',\n",
              " 'tuesday',\n",
              " '.']"
            ]
          },
          "metadata": {
            "tags": []
          },
          "execution_count": 4
        }
      ]
    },
    {
      "cell_type": "code",
      "metadata": {
        "id": "-8K3DBwDmenY",
        "outputId": "45d5cd29-90b1-4bee-a910-b25de7871290",
        "colab": {
          "base_uri": "https://localhost:8080/",
          "height": 663
        }
      },
      "source": [
        "tokenized_fake_news_training[0]"
      ],
      "execution_count": null,
      "outputs": [
        {
          "output_type": "execute_result",
          "data": {
            "text/plain": [
              "['rick',\n",
              " 'santorum',\n",
              " 'had',\n",
              " 'the',\n",
              " 'impossible',\n",
              " 'job',\n",
              " 'of',\n",
              " 'defending',\n",
              " 'donald',\n",
              " 'trump',\n",
              " 'during',\n",
              " 'friday',\n",
              " 's',\n",
              " 'real',\n",
              " 'time',\n",
              " 'and',\n",
              " 'he',\n",
              " 'found',\n",
              " 'himself',\n",
              " 'humiliatingly',\n",
              " 'outnumbered.bill',\n",
              " 'maher',\n",
              " 'began',\n",
              " 'by',\n",
              " 'expressing',\n",
              " 'astonishment',\n",
              " 'at',\n",
              " 'how',\n",
              " 'the',\n",
              " 'republican',\n",
              " 'nominee',\n",
              " 'has',\n",
              " 'been',\n",
              " 'acting',\n",
              " 'throughout',\n",
              " 'the',\n",
              " 'campaign',\n",
              " '.']"
            ]
          },
          "metadata": {
            "tags": []
          },
          "execution_count": 5
        }
      ]
    },
    {
      "cell_type": "markdown",
      "metadata": {
        "id": "ok_0NzjkDrde"
      },
      "source": [
        "## 1.3 Data Preprocessing & Preparation\n",
        "\n",
        "There's a well-known parable in machine learning that 80% of the work is all about data preparation, 10% is supporting infrastructure and 10% is actual modeling. If your \"raw\" dataset is not preprocessed and prepared in a way to maximize its value, then your model will be more like this: https://xkcd.com/1838/. For this project, modeling is the star of the show for learning purposes, but we still want you to pay attention to the preprocessing stage.\n",
        "\n",
        "*We've already tokenized and lowercased* the raw data for you. Here are a few extra things you might want to do:\n",
        "\n",
        "- Think about edge cases. For example, you don't want to accidentally append a period to the last word of a sentence. \n",
        "- Watch out for apostrophes and other tricky things like quotations, they cause lots of edge cases. For example, \"they're\" can be all one token, or two tokens (\"they\", \"'re\") or even three tokens (\"they\", \" ' \", \"re\"). \n",
        "\n",
        "Why did we lowercase all tokens? Because the computer will otherwise consider \"The\" and \"the\" as two separate words and this will cause problems.\n",
        "\n",
        "Note that you may use existing\n",
        "tools just for the purpose of preprocessing. \n",
        "\n",
        "Advice: don't get bugged down in the dozens of preprocessing packages and suggestions that you can find on Towards Data Science or Stack Overflow. Start with this [NLTK tutorial](https://lost-contact.mit.edu/afs/cs.pitt.edu/projects/nltk/docs/tutorial/introduction/nochunks.html#:~:text=The%20Natural%20Language%20Toolkit%20(NLTK,tokenization%2C%20tagging%2C%20and%20parsing.) and that should be plenty."
      ]
    },
    {
      "cell_type": "code",
      "metadata": {
        "id": "Pf2phKs8bvaB",
        "outputId": "9cb15e59-0406-4af2-cf2f-c48656e97340",
        "colab": {
          "base_uri": "https://localhost:8080/",
          "height": 51
        }
      },
      "source": [
        "# TODO: preprocessing\n",
        "#only taking words\n",
        "import re\n",
        "from collections import Counter\n",
        "nltk.download('wordnet')\n",
        "lemma = nltk.wordnet.WordNetLemmatizer()\n",
        "snowball = nltk.stem.SnowballStemmer(\"english\")\n",
        "\n",
        "regex = re.compile(\"[a-z0-9]+\")\n",
        "def preprocess_uni(tokenized_data):\n",
        "  uni_dict = Counter()\n",
        "  clean_tokenized_list = []\n",
        "  vocab_set = set()\n",
        "  num_words = 0\n",
        "  uni_dict[\"<s>\"] = len(tokenized_data)\n",
        "  uni_dict[\"</s>\"] = len(tokenized_data)\n",
        "  for tokens in tokenized_data:\n",
        "    clean_tokenized_list.append(\"<s>\")\n",
        "    for token in tokens:\n",
        "      if (regex.match(token)):\n",
        "        token = lemma.lemmatize(token)\n",
        "        token = snowball.stem(token)\n",
        "        # UNKNOWN WORD HANDLING - replace first occurrence of each word with <UNK> token\n",
        "        if (token not in vocab_set):\n",
        "          vocab_set.add(token)\n",
        "          token = \"<UNK>\"\n",
        "        uni_dict[token]+=1\n",
        "        num_words+=1\n",
        "        clean_tokenized_list.append(token)\n",
        "    clean_tokenized_list.append(\"</s>\")\n",
        "      \n",
        "  return uni_dict, num_words, clean_tokenized_list"
      ],
      "execution_count": 63,
      "outputs": [
        {
          "output_type": "stream",
          "text": [
            "[nltk_data] Downloading package wordnet to /root/nltk_data...\n",
            "[nltk_data]   Package wordnet is already up-to-date!\n"
          ],
          "name": "stderr"
        }
      ]
    },
    {
      "cell_type": "code",
      "metadata": {
        "id": "yjVE-Q_6JbXq"
      },
      "source": [
        "uni_real_dict, real_words, tokenized_real_news_training_flat = preprocess_uni(tokenized_real_news_training)\n",
        "uni_fake_dict, fake_words, tokenized_fake_news_training_flat = preprocess_uni(tokenized_fake_news_training)"
      ],
      "execution_count": 64,
      "outputs": []
    },
    {
      "cell_type": "code",
      "metadata": {
        "id": "XVqF6eBtLO4Q",
        "outputId": "99bb622a-6471-4da1-b7e2-01460ab9c2f4",
        "colab": {
          "base_uri": "https://localhost:8080/",
          "height": 34
        }
      },
      "source": [
        "print(uni_real_dict[\"donald\"])"
      ],
      "execution_count": 65,
      "outputs": [
        {
          "output_type": "stream",
          "text": [
            "7337\n"
          ],
          "name": "stdout"
        }
      ]
    },
    {
      "cell_type": "code",
      "metadata": {
        "id": "neKL3nnHM0t0",
        "outputId": "1be984c5-5a77-440b-bcf9-42a6aff33df8",
        "colab": {
          "base_uri": "https://localhost:8080/",
          "height": 54
        }
      },
      "source": [
        "print(tokenized_real_news_training_flat[0:50])"
      ],
      "execution_count": 66,
      "outputs": [
        {
          "output_type": "stream",
          "text": [
            "['<s>', '<UNK>', '<UNK>', '<UNK>', '<UNK>', '<UNK>', '<UNK>', '<UNK>', '<UNK>', '<UNK>', '<UNK>', '<UNK>', '<UNK>', 'the', '<UNK>', '<UNK>', '<UNK>', '<UNK>', 'the', '<UNK>', '<UNK>', '<UNK>', '<UNK>', '<UNK>', '<UNK>', '<UNK>', 'a', '<UNK>', '<UNK>', 'britain', '<UNK>', '<UNK>', 'for', '<UNK>', 'the', 'european', 'union', '<UNK>', 'on', '<UNK>', '</s>', '<s>', '<UNK>', '<UNK>', '<UNK>', '<UNK>', 'we', '<UNK>', '<UNK>', 'to']\n"
          ],
          "name": "stdout"
        }
      ]
    },
    {
      "cell_type": "code",
      "metadata": {
        "id": "tg1Rpxn9Jq8Q"
      },
      "source": [
        "def preprocess_bi(tokenized_data):\n",
        "  bi_dict = Counter()\n",
        "  for i in range(1, len(tokenized_data)):\n",
        "    bi_dict[(tokenized_data[i-1],tokenized_data[i]) ] +=1 \n",
        "  return bi_dict"
      ],
      "execution_count": 67,
      "outputs": []
    },
    {
      "cell_type": "code",
      "metadata": {
        "id": "T_Bc4oDWKwpq"
      },
      "source": [
        "bi_real_dict = preprocess_bi(tokenized_real_news_training_flat)\n",
        "bi_fake_dict = preprocess_bi(tokenized_fake_news_training_flat)"
      ],
      "execution_count": 68,
      "outputs": []
    },
    {
      "cell_type": "code",
      "metadata": {
        "id": "riYfkT_kR-eq",
        "outputId": "75a3e011-018e-42e7-ec69-035640f443cb",
        "colab": {
          "base_uri": "https://localhost:8080/",
          "height": 54
        }
      },
      "source": [
        "print(bi_fake_dict.most_common(10))"
      ],
      "execution_count": 69,
      "outputs": [
        {
          "output_type": "stream",
          "text": [
            "[(('</s>', '<s>'), 232436), (('of', 'the'), 37846), (('in', 'the'), 27409), (('<s>', 'the'), 19480), (('to', 'the'), 19395), (('on', 'the'), 13084), (('it', 's'), 12192), (('to', 'be'), 11614), (('for', 'the'), 11267), (('that', 'the'), 10190)]\n"
          ],
          "name": "stdout"
        }
      ]
    },
    {
      "cell_type": "code",
      "metadata": {
        "id": "w2JQX76dLFWX",
        "outputId": "50af04d7-a7f8-4460-9d90-a76a06cafd9e",
        "colab": {
          "base_uri": "https://localhost:8080/",
          "height": 34
        }
      },
      "source": [
        "print(bi_fake_dict[(\"donald\", \"trump\")])"
      ],
      "execution_count": 70,
      "outputs": [
        {
          "output_type": "stream",
          "text": [
            "9410\n"
          ],
          "name": "stdout"
        }
      ]
    },
    {
      "cell_type": "code",
      "metadata": {
        "id": "JEpFLfHylVg5",
        "outputId": "05818812-545d-4e04-c441-a1a61afc95d7",
        "colab": {
          "base_uri": "https://localhost:8080/",
          "height": 34
        }
      },
      "source": [
        "print(uni_real_dict[\"shopped\"])"
      ],
      "execution_count": 71,
      "outputs": [
        {
          "output_type": "stream",
          "text": [
            "0\n"
          ],
          "name": "stdout"
        }
      ]
    },
    {
      "cell_type": "code",
      "metadata": {
        "id": "OwbeRXNxSXDe",
        "outputId": "b4a6d083-6f31-4647-9fee-f4726abac920",
        "colab": {
          "base_uri": "https://localhost:8080/",
          "height": 34
        }
      },
      "source": [
        "bi_fake_dict[(\"<UNK>\", \"<UNK>\")]"
      ],
      "execution_count": 72,
      "outputs": [
        {
          "output_type": "execute_result",
          "data": {
            "text/plain": [
              "9541"
            ]
          },
          "metadata": {
            "tags": []
          },
          "execution_count": 72
        }
      ]
    },
    {
      "cell_type": "code",
      "metadata": {
        "id": "obnEQfCNK1lY"
      },
      "source": [
        "def preprocess_test(tokenized_data):\n",
        "  new_test = []\n",
        "  for tokens in tokenized_data:\n",
        "    new_test.append(\"<s>\")\n",
        "    for token in tokens:\n",
        "      if (regex.match(token)):\n",
        "        token = lemma.lemmatize(token)\n",
        "        token = snowball.stem(token)\n",
        "        new_test.append(token)\n",
        "    new_test.append(\"</s>\")\n",
        "  return new_test"
      ],
      "execution_count": 73,
      "outputs": []
    },
    {
      "cell_type": "code",
      "metadata": {
        "id": "O7R8e7GCK5hj"
      },
      "source": [
        "real_valid_lst = preprocess_test(tokenized_real_news_validation)\n",
        "fake_valid_lst = preprocess_test(tokenized_fake_news_validation)"
      ],
      "execution_count": 74,
      "outputs": []
    },
    {
      "cell_type": "code",
      "metadata": {
        "id": "3mPKW82wNgdY",
        "outputId": "cf7ad675-82b5-4023-960a-42340a21813e",
        "colab": {
          "base_uri": "https://localhost:8080/",
          "height": 54
        }
      },
      "source": [
        "print(real_valid_lst[:50])"
      ],
      "execution_count": 75,
      "outputs": [
        {
          "output_type": "stream",
          "text": [
            "['<s>', 'washington', 'reuter', 'u.s.', 'presid', 'donald', 'trump', 's', 'lawyer', 'on', 'tuesday', 'deni', 'that', 'he', 'or', 'trump', 'collud', 'with', 'russia', 'to', 'interfer', 'in', 'last', 'year', 's', 'presidenti', 'elect', 'and', 'said', 'such', 'charg', 'were', 'meant', 'to', 'discredit', 'trump', 's', 'presid', '</s>', '<s>', 'i', 'emphat', 'state', 'that', 'i', 'had', 'noth', 'to', 'do', 'with']\n"
          ],
          "name": "stdout"
        }
      ]
    },
    {
      "cell_type": "markdown",
      "metadata": {
        "id": "IEab9h6xpuhx"
      },
      "source": [
        "**Q1.1: Show some observations or statistics from the dataset** (should be quantitative – i.e. most frequent words, most frequent bigram, etc.)\n",
        "\n",
        "Your answer: We showed the 10 most frequent words and bigrams as well as the 50 least common words and bigrams below:"
      ]
    },
    {
      "cell_type": "code",
      "metadata": {
        "id": "9MQq0uNnqWmR",
        "outputId": "8a385ff6-5cd7-4713-e787-854c425bff9f",
        "colab": {
          "base_uri": "https://localhost:8080/",
          "height": 173
        }
      },
      "source": [
        "# TODO: observations/statistics\n",
        "print(\"Unigram real dataset most common words\")\n",
        "print(uni_real_dict.most_common(10))\n",
        "print(\"Unigram fake dataset most common words\")\n",
        "print(uni_fake_dict.most_common(10))\n",
        "print(\"Bigram real dataset most common words\")\n",
        "print(bi_real_dict.most_common(10))\n",
        "print(\"Bigram fake dataset most common words\")\n",
        "print(bi_fake_dict.most_common(10))"
      ],
      "execution_count": 76,
      "outputs": [
        {
          "output_type": "stream",
          "text": [
            "Unigram real dataset most common words\n",
            "[('the', 338509), ('<s>', 221017), ('</s>', 221017), ('a', 172492), ('to', 172440), ('of', 143665), ('and', 127474), ('in', 126833), ('on', 76219), ('s', 69970)]\n",
            "Unigram fake dataset most common words\n",
            "[('the', 371585), ('<s>', 232437), ('</s>', 232437), ('to', 203028), ('a', 187249), ('of', 165531), ('and', 157537), ('<UNK>', 126577), ('in', 115451), ('that', 105822)]\n",
            "Bigram real dataset most common words\n",
            "[(('</s>', '<s>'), 221016), (('<s>', 'the'), 35868), (('of', 'the'), 33510), (('in', 'the'), 28847), (('to', 'the'), 15615), (('said', '</s>'), 15158), (('in', 'a'), 12916), (('on', 'the'), 11710), (('for', 'the'), 10820), (('the', 'unit'), 9961)]\n",
            "Bigram fake dataset most common words\n",
            "[(('</s>', '<s>'), 232436), (('of', 'the'), 37846), (('in', 'the'), 27409), (('<s>', 'the'), 19480), (('to', 'the'), 19395), (('on', 'the'), 13084), (('it', 's'), 12192), (('to', 'be'), 11614), (('for', 'the'), 11267), (('that', 'the'), 10190)]\n"
          ],
          "name": "stdout"
        }
      ]
    },
    {
      "cell_type": "code",
      "metadata": {
        "id": "H9yQPZ3tNwNd",
        "outputId": "696f9648-219b-4306-a064-0b88e21f9ed2",
        "colab": {
          "base_uri": "https://localhost:8080/",
          "height": 71
        }
      },
      "source": [
        "print(\"Unigram real dataset least common words\")\n",
        "print(uni_real_dict.most_common()[-50:-1])"
      ],
      "execution_count": 77,
      "outputs": [
        {
          "output_type": "stream",
          "text": [
            "Unigram real dataset least common words\n",
            "[('unsupport', 1), ('government-support', 1), ('guillotin', 1), ('olympus', 1), ('1915', 1), ('earpiec', 1), ('london/brussel', 1), ('baes.l', 1), ('12-hour', 1), ('flashmob', 1), ('posloski', 1), ('balance.', 1), ('landau', 1), ('oceania', 1), ('three-prong', 1), ('extraterritori', 1), ('iranian-born', 1), ('easy-go', 1), ('46.3', 1), ('tmsnrt.rs/2ugjcjo', 1), ('gro', 1), ('brundtland', 1), ('24-16', 1), ('hide-and-seek', 1), ('clamber', 1), ('kiev-bas', 1), ('razumkov', 1), ('rania', 1), ('344', 1), ('u.s.-control', 1), ('readership', 1), ('edelman', 1), ('646,000', 1), ('prout', 1), ('programmat', 1), ('2330', 1), ('hanlon', 1), ('headteach', 1), ('whitesupremacist', 1), ('feasible.', 1), ('profits.', 1), ('litman', 1), ('ajala', 1), ('abdelbari', 1), ('url', 1), ('caffo', 1), ('stimson', 1), ('civilians.', 1), ('linden', 1)]\n"
          ],
          "name": "stdout"
        }
      ]
    },
    {
      "cell_type": "code",
      "metadata": {
        "id": "a7gHVw4IyOZp",
        "outputId": "f4f1f875-a2a6-40c1-fe3e-f259411078dd",
        "colab": {
          "base_uri": "https://localhost:8080/",
          "height": 71
        }
      },
      "source": [
        "print(\"Unigram fake dataset least common words\")\n",
        "print(uni_fake_dict.most_common()[-50:-1])"
      ],
      "execution_count": 78,
      "outputs": [
        {
          "output_type": "stream",
          "text": [
            "Unigram fake dataset least common words\n",
            "[('to.although', 1), ('jong-un.even', 1), ('reviewread', 1), ('reinvent', 1), ('election.stev', 1), ('radditz', 1), ('v=eyyqpynhcso', 1), ('tribuneth', 1), ('time.along', 1), ('agency.s', 1), ('joong', 1), ('newspaper.north', 1), ('war.both', 1), ('armistic', 1), ('treaty.for', 1), ('books.bil', 1), ('otherwise.bil', 1), ('act.behind', 1), ('denied.clinton', 1), ('negative.rumor', 1), ('60s.it', 1), ('order.ben', 1), ('dolly.th', 1), ('writes.st', 1), ('picture.featur', 1), ('latest.com', 1), ('ca.her', 1), ('production.ferguson', 1), ('activists.a', 1), ('5th.phelim', 1), ('pic.twitter.com/uycug6mjw1', 1), ('andel', 1), ('lectern', 1), ('resplend', 1), ('diamond/getti', 1), ('indirectly.th', 1), ('pic.twitter.com/degadgnm91', 1), ('conclusive.speci', 1), ('thimon', 1), ('behavior.it', 1), ('105,000', 1), ('homicide-rel', 1), ('pic.twitter.com/3sdkei6b4h', 1), ('places.on', 1), ('goldenshow', 1), ('images/spenc', 1), ('un-new', 1), ('gigabyt', 1), ('communications.th', 1)]\n"
          ],
          "name": "stdout"
        }
      ]
    },
    {
      "cell_type": "code",
      "metadata": {
        "id": "7_RMFNpzyKCV",
        "outputId": "3f68b21c-9ee7-4033-926b-c63a44d6dcff",
        "colab": {
          "base_uri": "https://localhost:8080/",
          "height": 71
        }
      },
      "source": [
        "print(\"Bigram real dataset least common words\")\n",
        "print(bi_real_dict.most_common()[-50:-1])"
      ],
      "execution_count": 79,
      "outputs": [
        {
          "output_type": "stream",
          "text": [
            "Bigram real dataset least common words\n",
            "[(('atom', 'guardian'), 1), (('guardian', 'surveil'), 1), (('drone', 'final'), 1), (('final', 'secur'), 1), (('drone', 'ha'), 1), (('expand', 'sale'), 1), (('technolog', 'control'), 1), (('1987', 'accord'), 1), (('it', 'categor'), 1), (('categor', 'drone'), 1), (('drone', 'with'), 1), (('rang', 'greater'), 1), (('mile', '300'), 1), (('payload', 'abov'), 1), (('abov', '1,100'), 1), (('1,100', 'pound'), 1), (('pound', '500'), 1), (('kg', 'a'), 1), (('missil', 'requir'), 1), (('requir', 'extrem'), 1), (('intern', 'stamp'), 1), (('relax', 'u.s.'), 1), (('mtcr', 'renegoti'), 1), (('the', 'missile-control'), 1), (('missile-control', 'group'), 1), (('dublin', 'next'), 1), (('paper', 'propos'), 1), (('creat', 'be'), 1), (('lenient', 'than'), 1), (('mtcr', 'wa'), 1), (('ha', 'nato'), 1), (('could', 'resist'), 1), (('an', 'mtcr'), 1), (('mtcr', 'signatori'), 1), (('signatori', 'ha'), 1), (('iraq', 'saudi'), 1), (('pas', 'u.s.'), 1), (('regulatori', 'muster'), 1), (('chines', 'model'), 1), (('reaper', 'but'), 1), (('much', 'cheaper'), 1), (('beij', 'sell'), 1), (('few', 'string'), 1), (('mtcr', 'but'), 1), (('high-tech', 'standard'), 1), (('volatil', 'middl'), 1), (('israel', 'sold'), 1), (('accord', 'defens'), 1), (('prolifer', 'drone'), 1)]\n"
          ],
          "name": "stdout"
        }
      ]
    },
    {
      "cell_type": "code",
      "metadata": {
        "id": "fP-aB07HySOs",
        "outputId": "b3f1b733-2391-4ec2-bd63-6c1791ad81ad",
        "colab": {
          "base_uri": "https://localhost:8080/",
          "height": 71
        }
      },
      "source": [
        "print(\"Bigram fake dataset least common words\")\n",
        "print(bi_fake_dict.most_common()[-50:-1])"
      ],
      "execution_count": 80,
      "outputs": [
        {
          "output_type": "stream",
          "text": [
            "Bigram fake dataset least common words\n",
            "[(('number', 'address'), 1), (('like', 'height'), 1), (('height', 'weight'), 1), (('forth', 'graham'), 1), (('contain', 'address'), 1), (('real', 'gps'), 1), (('tech', 'news'), 1), (('discov', 'british'), 1), (('and', 'vatican'), 1), (('vatican', 'staff'), 1), (('staff', 'among'), 1), (('instanc', 'sever'), 1), (('at', 'whitehouse.gov'), 1), (('whitehouse.gov', 'wherea'), 1), (('wherea', 'white'), 1), (('email', 'communications.th'), 1), (('communications.th', 'hacker'), 1), (('wa', 'avid'), 1), (('embarrass', 'now'), 1), (('hill', 'eric'), 1), (('communiti', 'veteran'), 1), (('fact', 'everyth'), 1), (('theorist', 'donald'), 1), (('host', 'said.er'), 1), (('said.er', 'said'), 1), (('the', 'ibd'), 1), (('ibd', 'poll'), 1), (('rasmussen', 'we'), 1), (('state', 'haven'), 1), (('presid', 'romney'), 1), (('romney', 'how'), 1), (('fight', 'from'), 1), (('behind', 'right'), 1), (('listen', 'mayb'), 1), (('love', 'out'), 1), (('eric', 'continu'), 1), (('ha', 'union'), 1), (('now', 'stephanopoulo'), 1), (('stephanopoulo', 'shot'), 1), (('had', '10,000'), 1), (('incred', 'proud'), 1), (('proud', 'eric'), 1), (('mani', 'yard'), 1), (('singl', 'hillari'), 1), (('enthusiasm', 'differenti'), 1), (('eric', 'american'), 1), (('eric', 'just'), 1), (('jesus', 'carri'), 1), (('cross', 'donald'), 1)]\n"
          ],
          "name": "stdout"
        }
      ]
    },
    {
      "cell_type": "markdown",
      "metadata": {
        "id": "rcw8M5nesOQD"
      },
      "source": [
        "**Please answer the following question**:\n",
        "\n",
        "**Q1.2: What did you do in your preprocessing part?**\n",
        "\n",
        "Example answer format:\n",
        "\n",
        "A: We tokenized and lowercased all the words."
      ]
    },
    {
      "cell_type": "markdown",
      "metadata": {
        "id": "zQVi0l76MBcs"
      },
      "source": [
        "Your answer: We first removed all punctuations using regular expressions. Then we used nltk libraries (WordNet Lemmatizer and Snowball Stemming) to lemmatize and stem real and fake training data because we wanted to remove the possibility of different tenses, verb agreements and other grammatical variations from skewing the model. \n",
        "\n",
        "We added sentence beginning and end tokens. We also handled unknown words by changing the first occurrence of each word to the \\<UNK> token.\n",
        "\n",
        "We also built unigram and bigram count dictionaries respectively.\n",
        "\n",
        "We added a method to preprocess the test and validation data which does everything that is stated here."
      ]
    },
    {
      "cell_type": "markdown",
      "metadata": {
        "id": "d8oo9zHrsYBD"
      },
      "source": [
        "# Part 2: Compute Unsmoothed Language Models.\n",
        "\n",
        "To start, you will write a program that computes unsmoothed unigram and bigram probabilities. You should consider real and fake news as separate corpora and\n",
        "generate a separate language model for each set of news.\n",
        "We have already loaded the data and (partially) preprocessed it and you probably did some of your own preprocessing. \n",
        "\n",
        "Note that you were allowed to use existing\n",
        "tools for the purpose of preprocessing, but you must write the code for gathering n-gram counts and computing n-gram probabilities yourself. \n",
        "\n",
        "For example, consider the\n",
        "simple corpus consisting of the sole sentence:\n",
        "\n",
        "\n",
        "> the students liked the assignment\n",
        "\n",
        "Part of what your program would compute for a unigram and bigram model, for example,\n",
        "would be the following:\n",
        "\n",
        "\n",
        "> $P(\"the\") = 0.4; P(\"liked\") = 0.2; P(\"the\"|\"liked\") = 1.0; P(\"students\"|\"the\") = 0.5$\n",
        "\n",
        "Remember to add a symbol to mark the beginning of sentence. See Sept. 7th lecture, p25-28 for an example.\n",
        "\n",
        "\n"
      ]
    },
    {
      "cell_type": "markdown",
      "metadata": {
        "id": "IgdpbCKw8B0r"
      },
      "source": [
        "**Advice**: jupyter notebooks (including colab) can be a double-edged sword. It's amazing and liberating to just start writing code and run it by simply running a cell. However, it gets messy very quickly. So, once you're done prototyping, we highly recommend using functions (classes may be unnecessary but go for it if you want) to make things cleaner and easier to debug."
      ]
    },
    {
      "cell_type": "markdown",
      "metadata": {
        "id": "MqkMkZIkst8i"
      },
      "source": [
        "## 2.1 Unsmoothed Uni-gram Model.\n",
        "\n",
        "In this part of the project, you are trying to compute the probabilities for a unigram model. You might want to take in a list of words, and return the probabilities for each\n",
        "occurence. Think of an efficient data structure to use here given what ratio of reads and puts you expect.\n",
        "\n",
        "Please look at the example above and consider how we get the probabilities.\n",
        "\n",
        "Below is a starter point you can go from, but you DO NOT need to stick it. Feel free to use your own design."
      ]
    },
    {
      "cell_type": "code",
      "metadata": {
        "id": "aSpCXMDUs3Xs"
      },
      "source": [
        "\"\"\"\n",
        "Function [unsmoothed_unigram] computes the probabilities for a unigram model\n",
        "lst: a list of words in test data\n",
        "dic: unigram dictionary of the model\n",
        "total_words: the total number of words in the training corpus of the model\n",
        "Return: dictionary that stores the probability of each unigram in [lst]\n",
        "\"\"\"\n",
        "def unsmoothed_unigram(lst, dic, total_words):\n",
        "  word_probs = Counter()\n",
        "  for word in lst:\n",
        "    word = lemma.lemmatize(word)\n",
        "    word = snowball.stem(word)\n",
        "    word_probs[word] = dic[word]/total_words\n",
        "  return word_probs"
      ],
      "execution_count": 81,
      "outputs": []
    },
    {
      "cell_type": "code",
      "metadata": {
        "id": "dMioLTgON93_",
        "outputId": "4d18b551-6cca-49b3-945a-51c72ea422b8",
        "colab": {
          "base_uri": "https://localhost:8080/",
          "height": 102
        }
      },
      "source": [
        "unsmoothed_unigram([\"i\", \"love\", \"donald\", \"trump\", \"love\", \"you\"], uni_fake_dict, fake_words)"
      ],
      "execution_count": 82,
      "outputs": [
        {
          "output_type": "execute_result",
          "data": {
            "text/plain": [
              "Counter({'donald': 0.0017429607516461058,\n",
              "         'i': 0.004387280389375602,\n",
              "         'love': 0.000338098931893294,\n",
              "         'trump': 0.007512086500717513,\n",
              "         'you': 0.004035743275834118})"
            ]
          },
          "metadata": {
            "tags": []
          },
          "execution_count": 82
        }
      ]
    },
    {
      "cell_type": "markdown",
      "metadata": {
        "id": "cuyn_xPjs4TR"
      },
      "source": [
        "## 2.2 Unsmoothed Bi-gram Model.\n",
        "\n",
        "In this part of the project, you are trying to compute the probabilities for a bigram model. You can approach this with similar methods as above.\n",
        "\n",
        "Remember the definition:\n",
        "$p(w_n\\mid w_{n-1})=\\frac{C(w_{n-1}w_n)}{C(w_{n-1})}$ this means you might want to store two things (count of $w_{n-1}$ and count of $w_{n-1}w_n$)."
      ]
    },
    {
      "cell_type": "code",
      "metadata": {
        "id": "j7opVGtks_kY"
      },
      "source": [
        "# TODO: Add code for bigram probability calculation. \n",
        "\"\"\"\n",
        "Function [unsmoothed_bigram] computes the probabilities for a bigram model\n",
        "lst: a list of words in test data\n",
        "unigram_dict: unigram dictionary of the model\n",
        "bigram_dict: bigram dictionary of the model\n",
        "Return: dictionary that stores the probability of each bigram in [lst]\n",
        "\"\"\"\n",
        "def unsmoothed_bigram(lst, bigram_dict, unigram_dict):\n",
        "  word_probs = Counter()\n",
        "  for i in range(1, len(lst)):\n",
        "    prev_word = snowball.stem(lemma.lemmatize(lst[i-1]))\n",
        "    curr_word = snowball.stem(lemma.lemmatize(lst[i]))\n",
        "    word_probs[(prev_word, curr_word)] = bigram_dict[(prev_word, curr_word)]/unigram_dict[prev_word]\n",
        "  return word_probs"
      ],
      "execution_count": 83,
      "outputs": []
    },
    {
      "cell_type": "code",
      "metadata": {
        "id": "gCyGm_LxOE7H",
        "outputId": "7883cfe1-7add-41db-997c-a2146aa70843",
        "colab": {
          "base_uri": "https://localhost:8080/",
          "height": 102
        }
      },
      "source": [
        "unsmoothed_bigram([\"i\", \"love\", \"donald\", \"trump\", \"love\", \"you\"], bi_fake_dict, uni_fake_dict)"
      ],
      "execution_count": 84,
      "outputs": [
        {
          "output_type": "execute_result",
          "data": {
            "text/plain": [
              "Counter({('donald', 'trump'): 0.7718175853018373,\n",
              "         ('i', 'love'): 0.007592296914203787,\n",
              "         ('love', 'donald'): 0.004228329809725159,\n",
              "         ('love', 'you'): 0.026215644820295984,\n",
              "         ('trump', 'love'): 0.0007612232858203133})"
            ]
          },
          "metadata": {
            "tags": []
          },
          "execution_count": 84
        }
      ]
    },
    {
      "cell_type": "markdown",
      "metadata": {
        "id": "ejmIJWSVwRJG"
      },
      "source": [
        "**Please answer the following question**:\n",
        "\n",
        "**Q2: What data structure are you using to store probabilities for unigrams and bigrams? Why did you select this data structure?**\n",
        "\n",
        "Your answer: We use Counter() which is a type of dictionary. We chose this because it has a constant lookup and put time. We didn't want to use a list because (1) operations on list are expensive, (2) the probabilities of repeating unigrams and bigrams are the same in this model and we don't need duplicates."
      ]
    },
    {
      "cell_type": "markdown",
      "metadata": {
        "id": "miWWgYxZtAZu"
      },
      "source": [
        "# Part 3: Smoothed Language Model\n",
        "In this part, you will need to implement **at least one** smoothing method and **at least one** method to handle unknown words in the test data. You can choose any method(s) that you want for each. You should make clear\n",
        "**what method(s)** were selected and **why**, providing a description for any non-standard approach (e.g., an approach that was not covered in class or in the readings). \n",
        "\n",
        "You should use the\n",
        "provided validation sets to experiment with different smoothing/unknown word handling\n",
        "methods if you wish to see which one is more effective for this task. (We will cover this in Part 4)."
      ]
    },
    {
      "cell_type": "markdown",
      "metadata": {
        "id": "SfiAOKfEuMGy"
      },
      "source": [
        "## 3.1 Unknown Words Handling\n",
        "\n",
        "**Please answer the following questions:**\n",
        "\n",
        "**Q3.1: How are you going to handle unknown words? What parameters might be needed? Do you need a method to determine the value?**\n",
        "\n",
        "Your answer: We handled unknown words in the preprocessing section. We replaced the first occurrence of each word by \\<UNK> token. We don't need any parameters to do this because we simply replaced the first occurrences of the words in our training corpus as we pre-processed them. The first occurrences were tracked by using a vocab set. As we pre-processed the words, we checked if they were in our vocab set. If they were not, we made that word to be \\<UNK> and added them to the vocab set.\n"
      ]
    },
    {
      "cell_type": "code",
      "metadata": {
        "id": "OF8ktPAouR_F"
      },
      "source": [
        "# TODO: Add your unknown word handling code \n",
        "\n",
        "# UNKNOWN WORD HANDLING done in preprocessing in preprocess_unigram().\n",
        "# Pre-processed input token lists (replacing first occurrences of each word in the vocab) \n",
        "# are used to build bigrams as well"
      ],
      "execution_count": 85,
      "outputs": []
    },
    {
      "cell_type": "markdown",
      "metadata": {
        "id": "aRGK0_x_t46P"
      },
      "source": [
        "## 3.2 Smoothing\n",
        "\n",
        "In this part of project, we are going to compute the probabilities for unigram and bigram models after smoothing.\n",
        "There are several smoothing methods you can start with:\n",
        "* add-k\n",
        "* Kneser-Ney\n",
        "* Good-Turing\n",
        "* ...\n",
        "\n",
        "You need to compute for both unigram and bigram models.\n",
        "\n",
        "Below is a starter point using add-k smoothing. As always, you DO NOT need to follow it; you DO NOT need to use add-k smoothing if you do not want to. You can pick ANY smoothing method you want."
      ]
    },
    {
      "cell_type": "code",
      "metadata": {
        "id": "nmW8G3mqt-5z"
      },
      "source": [
        "\"\"\"\n",
        "Function [add_k_unigram] does add-k smoothing to unigram model.\n",
        "lst: a list of words in test data\n",
        "dic: a dictionary of unigrams. key: word, val: frequency\n",
        "k: parameter k for smoothing\n",
        "total_words: total words in the training corpus of model\n",
        "Return: a dictionary of probabilities after smoothing\n",
        "\"\"\"\n",
        "def add_k_unigram(lst, dic, k, total_words):\n",
        "  word_probs = Counter()\n",
        "  for word in lst:\n",
        "    if dic[word] == 0:\n",
        "      word = \"<UNK>\"\n",
        "    word_probs[word] = (dic[word] + k) / (total_words + k * len(dic))\n",
        "  return word_probs\n"
      ],
      "execution_count": 86,
      "outputs": []
    },
    {
      "cell_type": "code",
      "metadata": {
        "id": "Szs3zqwSFDEY"
      },
      "source": [
        "\"\"\"\n",
        "Function [add_k_bigram] does add-k smoothing to bigram model.\n",
        "lst: a list of words in test data\n",
        "uni_dic: a dictionary of unigrams. key: word, val: frequency\n",
        "bi_dic: a dictionary of bigrams. key: word-pairs, val: frequency\n",
        "k: parameter k for smoothing\n",
        "Return: a dictionary of probabilities after smoothing\n",
        "\"\"\"\n",
        "def add_k_bigram(lst, uni_dic, bi_dic, k):\n",
        "  word_probs = Counter()\n",
        "  for i in range(1, len(lst)):\n",
        "    prev_word = lst[i-1]\n",
        "    if uni_dic[prev_word] == 0:\n",
        "      prev_word = \"<UNK>\"\n",
        "    curr_word = lst[i]\n",
        "    if uni_dic[curr_word] == 0:\n",
        "      curr_word = \"<UNK>\"\n",
        "    pair = (prev_word, curr_word)\n",
        "    word_probs[pair] = (bi_dic[pair] + k) / (uni_dic[pair[0]] + k * len(uni_dic))\n",
        "  return word_probs"
      ],
      "execution_count": 87,
      "outputs": []
    },
    {
      "cell_type": "markdown",
      "metadata": {
        "id": "AbHkdI7-t_7D"
      },
      "source": [
        "**Please answer the following question:**\n",
        "\n",
        "**Q3.2: Which smoothing method did you choose? Are there any parameters, if so how are you planning to pick the value? If you choose to implement more than 1 method (not a requirement), please state each of them. Providing a description for any non-standard approach, e.g., an approach that was not covered in class or in the readings**\n",
        "\n",
        "Your answer: We use add-k-smoothing. For both unigram and bigram models, we need k as a parameter. We think a smaller value of k is better because a smaller k value does not affect the overall probability as much and therefore, preserves the accuracy of the model. The value is chosen after trying out multiple values of k until we found an appropriate k value."
      ]
    },
    {
      "cell_type": "markdown",
      "metadata": {
        "id": "ML03appeuSm3"
      },
      "source": [
        "# Part 4: Perplexity\n",
        "At this point, we have developed several language models: unigram vs bigram, unsmoothed vs smoothed. We now want to compare all the models. \n",
        "\n",
        "Implement code to compute the perplexity of a **“development set.”** (“Development set”\n",
        "is just another way to refer to the validation set—part of a dataset that is distinct from\n",
        "the training portion and the test portion.) Compute and report the perplexity of each\n",
        "of the language models (one trained on true news and fake news) on\n",
        "the development corpora. Compute perplexity as follows:\n",
        "\\begin{align*}\n",
        "PP &= \\left(\\prod_i^N\\frac{1}{P\\left(W_i\\mid W_{i-1}, ...W_{i-n+1}\\right)}\\right)^{\\frac{1}{N}}\\\\\n",
        "&=\\exp \\frac{1}{N}\\sum_{i}^N-\\log P\\left(W_i\\mid W_{i-1}, ...W_{i-n+1}\\right)\n",
        "\\end{align*}\n",
        "where $N$ is the total number of tokens in the test corpus and $P\\left(W_i\\mid W_{i-1}, ...W_{i-n+1}\\right)$\n",
        "is the n-gram probability of your model. Under the second definition above, perplexity\n",
        "is a function of the average (per-word) log probability: use this to avoid numerical\n",
        "computation errors.\n",
        "\n",
        "Please complete the following tasks and report what you have observed. Remember, lower perplexity means better model."
      ]
    },
    {
      "cell_type": "markdown",
      "metadata": {
        "id": "aT1IRyohJw7e"
      },
      "source": [
        "## Task 1: Compute perplexity for smoothed unigram and smoothed bigram. \n",
        "*Note: If you choose more than one smoothing method, pick one of them to compute. If you need to try different values of parameters, you can try them out here.*\n"
      ]
    },
    {
      "cell_type": "code",
      "metadata": {
        "id": "WFFj7XqDKXfX"
      },
      "source": [
        "# TODO: compute perplexity for one smoothing method on unigram, and one smoothing method on bigram.\n",
        "import math\n",
        "\n",
        "def perplexity_uni(k, lst, dic, words):\n",
        "  prob_dict = add_k_unigram(lst, dic, k, words)\n",
        "  acc = 0\n",
        "  for word in lst:\n",
        "    if word not in dic:\n",
        "      word = \"<UNK>\"\n",
        "    acc += -1*math.log(prob_dict[word])\n",
        "  pp = math.exp((1/len(lst))*acc)\n",
        "  return pp\n",
        "\n",
        "\n",
        "def perplexity_bi(k, lst, uni_dic, bi_dic):\n",
        "  prob_dict = add_k_bigram(lst, uni_dic, bi_dic, k)\n",
        "  acc = 0\n",
        "  for i in range(1, len(lst)):\n",
        "    prev_word = lst[i-1]\n",
        "    if prev_word not in uni_dic:\n",
        "      prev_word = \"<UNK>\"\n",
        "    curr_word = lst[i]\n",
        "    if curr_word not in uni_dic:\n",
        "      curr_word = \"<UNK>\"\n",
        "    pair = (prev_word, curr_word)\n",
        "    acc += -1*math.log(prob_dict[pair])\n",
        "  pp = math.exp((1/len(lst))*acc)\n",
        "  return pp\n"
      ],
      "execution_count": 88,
      "outputs": []
    },
    {
      "cell_type": "code",
      "metadata": {
        "id": "M5Fi1OQ3QXm8",
        "outputId": "cc4b3053-6596-4df3-ce6c-843c3e941bea",
        "colab": {
          "base_uri": "https://localhost:8080/",
          "height": 34
        }
      },
      "source": [
        "perplexity_uni(0.001, fake_valid_lst, uni_fake_dict, fake_words)"
      ],
      "execution_count": 89,
      "outputs": [
        {
          "output_type": "execute_result",
          "data": {
            "text/plain": [
              "793.7791905377273"
            ]
          },
          "metadata": {
            "tags": []
          },
          "execution_count": 89
        }
      ]
    },
    {
      "cell_type": "code",
      "metadata": {
        "id": "iHgWqlye3LRT",
        "outputId": "888fe0c3-b11d-4fd7-eb5b-bfde6424deed",
        "colab": {
          "base_uri": "https://localhost:8080/",
          "height": 34
        }
      },
      "source": [
        "perplexity_uni(1, fake_valid_lst, uni_fake_dict, fake_words)"
      ],
      "execution_count": 90,
      "outputs": [
        {
          "output_type": "execute_result",
          "data": {
            "text/plain": [
              "795.4321731851157"
            ]
          },
          "metadata": {
            "tags": []
          },
          "execution_count": 90
        }
      ]
    },
    {
      "cell_type": "code",
      "metadata": {
        "id": "J2PsERx5Zrsn",
        "outputId": "d832a84f-a86e-46b5-905f-51ccce076f34",
        "colab": {
          "base_uri": "https://localhost:8080/",
          "height": 34
        }
      },
      "source": [
        "perplexity_uni(2, fake_valid_lst, uni_fake_dict, fake_words)"
      ],
      "execution_count": 97,
      "outputs": [
        {
          "output_type": "execute_result",
          "data": {
            "text/plain": [
              "798.2045356650539"
            ]
          },
          "metadata": {
            "tags": []
          },
          "execution_count": 97
        }
      ]
    },
    {
      "cell_type": "code",
      "metadata": {
        "id": "fUCb46x9QZkP",
        "outputId": "15e946f1-8feb-4b68-f581-cd18d689d02c",
        "colab": {
          "base_uri": "https://localhost:8080/",
          "height": 34
        }
      },
      "source": [
        "perplexity_uni(0.001, real_valid_lst, uni_real_dict, real_words)"
      ],
      "execution_count": 91,
      "outputs": [
        {
          "output_type": "execute_result",
          "data": {
            "text/plain": [
              "722.7353722371856"
            ]
          },
          "metadata": {
            "tags": []
          },
          "execution_count": 91
        }
      ]
    },
    {
      "cell_type": "code",
      "metadata": {
        "id": "qoiuRlAf3OQE",
        "outputId": "3430a2b0-64a3-477c-9cb6-ce70f83366bc",
        "colab": {
          "base_uri": "https://localhost:8080/",
          "height": 34
        }
      },
      "source": [
        "perplexity_uni(1, real_valid_lst, uni_real_dict, real_words)"
      ],
      "execution_count": 92,
      "outputs": [
        {
          "output_type": "execute_result",
          "data": {
            "text/plain": [
              "723.0357853192074"
            ]
          },
          "metadata": {
            "tags": []
          },
          "execution_count": 92
        }
      ]
    },
    {
      "cell_type": "code",
      "metadata": {
        "id": "3owOg9gMZvuz",
        "outputId": "76dd3496-c1e7-4d11-9412-6ae8b697e035",
        "colab": {
          "base_uri": "https://localhost:8080/",
          "height": 34
        }
      },
      "source": [
        "perplexity_uni(2, real_valid_lst, uni_real_dict, real_words)"
      ],
      "execution_count": 98,
      "outputs": [
        {
          "output_type": "execute_result",
          "data": {
            "text/plain": [
              "724.0934673685134"
            ]
          },
          "metadata": {
            "tags": []
          },
          "execution_count": 98
        }
      ]
    },
    {
      "cell_type": "code",
      "metadata": {
        "id": "tsvqSsCsQfFF",
        "outputId": "fdfe6d66-06ea-4db2-f40e-c586034074b9",
        "colab": {
          "base_uri": "https://localhost:8080/",
          "height": 34
        }
      },
      "source": [
        "perplexity_bi(0.001, real_valid_lst, uni_real_dict, bi_real_dict)"
      ],
      "execution_count": 93,
      "outputs": [
        {
          "output_type": "execute_result",
          "data": {
            "text/plain": [
              "195.26234500504205"
            ]
          },
          "metadata": {
            "tags": []
          },
          "execution_count": 93
        }
      ]
    },
    {
      "cell_type": "code",
      "metadata": {
        "id": "cJRHBW8t3RGm",
        "outputId": "b950982e-99d3-4ffd-f5ba-1d9a39746fd7",
        "colab": {
          "base_uri": "https://localhost:8080/",
          "height": 34
        }
      },
      "source": [
        "perplexity_bi(1, real_valid_lst, uni_real_dict, bi_real_dict)"
      ],
      "execution_count": 94,
      "outputs": [
        {
          "output_type": "execute_result",
          "data": {
            "text/plain": [
              "755.5007142743374"
            ]
          },
          "metadata": {
            "tags": []
          },
          "execution_count": 94
        }
      ]
    },
    {
      "cell_type": "code",
      "metadata": {
        "id": "rSsngDymZxrn",
        "outputId": "4dfc4ea1-268c-470c-d5d5-32437249f952",
        "colab": {
          "base_uri": "https://localhost:8080/",
          "height": 34
        }
      },
      "source": [
        "perplexity_bi(2, real_valid_lst, uni_real_dict, bi_real_dict)"
      ],
      "execution_count": 99,
      "outputs": [
        {
          "output_type": "execute_result",
          "data": {
            "text/plain": [
              "755.5007142743374"
            ]
          },
          "metadata": {
            "tags": []
          },
          "execution_count": 99
        }
      ]
    },
    {
      "cell_type": "code",
      "metadata": {
        "id": "r-bZ_nExQjii",
        "outputId": "e2841b68-f50e-4456-839b-d1b74fcb44a1",
        "colab": {
          "base_uri": "https://localhost:8080/",
          "height": 34
        }
      },
      "source": [
        "perplexity_bi(0.001, fake_valid_lst, uni_fake_dict, bi_fake_dict)"
      ],
      "execution_count": 95,
      "outputs": [
        {
          "output_type": "execute_result",
          "data": {
            "text/plain": [
              "221.68907551489798"
            ]
          },
          "metadata": {
            "tags": []
          },
          "execution_count": 95
        }
      ]
    },
    {
      "cell_type": "code",
      "metadata": {
        "id": "p30zH4hf3UwF",
        "outputId": "e8adfa9c-0f5e-487b-e0f1-22f1fdcabf18",
        "colab": {
          "base_uri": "https://localhost:8080/",
          "height": 34
        }
      },
      "source": [
        "perplexity_bi(1, fake_valid_lst, uni_fake_dict, bi_fake_dict)"
      ],
      "execution_count": 96,
      "outputs": [
        {
          "output_type": "execute_result",
          "data": {
            "text/plain": [
              "1227.778785515183"
            ]
          },
          "metadata": {
            "tags": []
          },
          "execution_count": 96
        }
      ]
    },
    {
      "cell_type": "code",
      "metadata": {
        "id": "OcoCuvE1Z0zH",
        "outputId": "556d61ce-4ab8-46be-8f41-3105f3739647",
        "colab": {
          "base_uri": "https://localhost:8080/",
          "height": 34
        }
      },
      "source": [
        "perplexity_bi(2, fake_valid_lst, uni_fake_dict, bi_fake_dict)"
      ],
      "execution_count": 100,
      "outputs": [
        {
          "output_type": "execute_result",
          "data": {
            "text/plain": [
              "1830.8423206588445"
            ]
          },
          "metadata": {
            "tags": []
          },
          "execution_count": 100
        }
      ]
    },
    {
      "cell_type": "markdown",
      "metadata": {
        "id": "QbxTiHHh7Lwc"
      },
      "source": [
        "**Q4.1: Why do we need to compute perplexity after smoothing?**\n",
        "\n",
        "Your answer: We need to compute perplexity after smoothing to ensure that our smoothing method and the value of k (the parameter) does not make our model very uncertain. We want to use perplexity to choose the best smoothing parameter, which is k in our approach, to ensure a better prediction of the test data. A good k value is one that gives a lower perplexity value.\n",
        "\n",
        "**Q4.2: Did you choose any values for parameters?**\n",
        "\n",
        "Your answer: At first, we tried with k=1, as it is the standard k for most cases, for all of our models and calculated the perplexity. We then tried making k larger and smaller as showsn in the above cells. We realized that lowering k value decreased perplexity. With that, we determined that k=0.001 will be better for all of our models. Making k lower than 0.001 barely made a difference in perplexity for all the models. So we choose to use k=0.001 for our models."
      ]
    },
    {
      "cell_type": "markdown",
      "metadata": {
        "id": "RQxfllB0KfKf"
      },
      "source": [
        "## Task 2: Compute perplexity for other smoothing methods (optional). \n",
        "*Note: If you only pick one smoothing method, you can omit this task. If you need to try different values of parameters, you can try them out here.*"
      ]
    },
    {
      "cell_type": "code",
      "metadata": {
        "id": "5fU-sCOYK_xI"
      },
      "source": [
        "# TODO: compute perplexity for your rest of smoothing method."
      ],
      "execution_count": null,
      "outputs": []
    },
    {
      "cell_type": "markdown",
      "metadata": {
        "id": "VaALsOnk7FZJ"
      },
      "source": [
        "**Q4.3: If your smoothing method needs to pick a parameter, what is the value of your parameter?**\n",
        "\n",
        "Your answer:\n",
        "\n",
        "**Q4.4: Which smoothing method is the best among your choices?**\n",
        "\n",
        "Your answer:"
      ]
    },
    {
      "cell_type": "markdown",
      "metadata": {
        "id": "JKH7JpZWvdP5"
      },
      "source": [
        "# Part 5: Putting Everything Together and Submitting to Kaggle\n",
        "Combining all the previous parts together, we have developed a bunch of language models. Before we proceed to the next step, let's check a few things (no need to answer):\n",
        "* Did you train your model only on training set?\n",
        "* Did you validate your model only on validation/development set?\n",
        "* Did you determine all your parameters?\n",
        "\n",
        "Finally, please answer:\n",
        "\n",
        "**Q5: What is your choice of language model, and why?**\n",
        "\n",
        "Your answer: We chose bigram model with add-k-smoothing, where k=0.001, because this model gives us the lowest perplexity on the validation data. A lower perplexity means less uncertainty and the model predicts the validation set better. We determined all of our parameters as stated here after checking with wide choices of parameters.\n",
        "\n"
      ]
    },
    {
      "cell_type": "code",
      "metadata": {
        "id": "ukEVlpFow6mz"
      },
      "source": [
        "# TODO: anything that helps you answer/check the above points."
      ],
      "execution_count": null,
      "outputs": []
    },
    {
      "cell_type": "markdown",
      "metadata": {
        "id": "E7bWKZQjv2Ht"
      },
      "source": [
        "## Part 5.1: First Model Submission to Kaggle\n",
        "\n",
        "Now we need to apply our model to testing data. What you need to do:\n",
        "* Takes the test data as input, and generates an output of your prediction based on your chosen language model\n",
        "* Your output file should be ONLY your predictions\n",
        "* Submit to Kaggle\n",
        "\n",
        "You should use your trained model to predict labels for all the news in `TestData.txt`. Output your predictions to a **csv** file and submit it to kaggle. Each line should contain the id of the test news and its corresponding prediction (in total 4489 lines). In other words, your output should look like (**including the header**):\n",
        "```\n",
        "Id,Prediction\n",
        "0,0\n",
        "1,0\n",
        "2,1\n",
        "3,0\n",
        "...\n",
        "4488,1\n",
        "```\n",
        "Note that you should add the header `Id,Prediction` and there is no space in the output. The Id starts from 0 (not 1).\n",
        "\n",
        "Use this kaggle [link](https://www.kaggle.com/t/a032d54898b24b4bb2f29e7165ac5fdf) to submit your output. Your team name should be the concatenation of your netids, **exactly in the same order as this notebook is named**. For example, if notebook is 4740_FA20_p1_jb123_cj456, then Kaggle group should be jb123_cj456.\n"
      ]
    },
    {
      "cell_type": "code",
      "metadata": {
        "id": "wqECbQs7wDFr"
      },
      "source": [
        "# TODO: Add code to generate the Kaggle output file and submit the output file to Kaggle\n",
        "with io.open(os.path.join(dataset_path, \"TestData.txt\"), encoding='utf8') as test_file:\n",
        "  test_data = test_file.read()\n",
        "test_lst = test_data.split('\\n')[:-1]"
      ],
      "execution_count": null,
      "outputs": []
    },
    {
      "cell_type": "code",
      "metadata": {
        "id": "zDHunq7jjFyA"
      },
      "source": [
        "\"\"\"\n",
        "Function [calc_prob] calculates the probability of the test_data given a model.\n",
        "preprocess_test: tokenized and preprocessed list of test data\n",
        "uni_dic: dictionary of unigram model\n",
        "bi_dic: dictionary of bigram model\n",
        "Returns probability (in log base) of the test data given a model\n",
        "\"\"\"\n",
        "def calc_prob(preprocess_test, uni_dic, bi_dic):\n",
        "  prob_dict = add_k_bigram(preprocess_test, uni_dic, bi_dic, 0.01)\n",
        "  prob = 0\n",
        "  for i in range(1, len(preprocess_test)):\n",
        "    prev_word = preprocess_test[i-1]\n",
        "    if uni_dic[prev_word] == 0:\n",
        "      prev_word = \"<UNK>\"\n",
        "    curr_word = preprocess_test[i]\n",
        "    if uni_dic[curr_word] == 0:\n",
        "      curr_word = \"<UNK>\"\n",
        "    pair = (prev_word, curr_word)\n",
        "    prob += math.log(prob_dict[pair])\n",
        "  return prob"
      ],
      "execution_count": null,
      "outputs": []
    },
    {
      "cell_type": "code",
      "metadata": {
        "id": "cfQYnsPLXv_6"
      },
      "source": [
        "import csv\n",
        "\n",
        "with open(os.path.join(dataset_path, \"predictions.csv\"), 'w') as csvfile:\n",
        "  filewriter = csv.writer(csvfile, delimiter=',',\n",
        "                            quotechar='|', quoting=csv.QUOTE_MINIMAL)\n",
        "  filewriter.writerow(['Id', 'Prediction'])\n",
        "  for i in range(len(test_lst)):\n",
        "    tokenized_test_data = [list(map(str.lower, word_tokenize(sent))) for sent in sent_tokenize(test_lst[i])]\n",
        "    preprocess_test_data = preprocess_test(tokenized_test_data)\n",
        "    real_prob = calc_prob(preprocess_test_data, uni_real_dict, bi_real_dict)\n",
        "    fake_prob = calc_prob(preprocess_test_data, uni_fake_dict, bi_fake_dict)\n",
        "    pred = 0\n",
        "    if (real_prob > fake_prob):\n",
        "      pred = 1\n",
        "    filewriter.writerow([i, pred])"
      ],
      "execution_count": 104,
      "outputs": []
    },
    {
      "cell_type": "markdown",
      "metadata": {
        "id": "uBtISMsewD4e"
      },
      "source": [
        "# Part 6: Naive Bayes\n",
        "\n",
        "The Naive Bayes classification method is based on Bayes Rule. Suppose we have a news article *d* and its label *c* (either 0 or 1).\n",
        "\\begin{align*}\n",
        "P(c|d)=\\frac{P(d|c)P(c)}{P(d)}\n",
        "\\end{align*}\n",
        "Likelihood: $P(d|c)$. In real/fake corpus, how likely *d* would appear.\n",
        "\n",
        "Prior: $P(c)$. The probability of real/fake news in general.\n",
        "\n",
        "Posterior: $P(c|d)$. Given *d*, how likely is it that it is real/fake.\n",
        "\n",
        "Goal: $\\underset{c\\in \\{0,1\\}}{\\operatorname{argmax}} P(c|d)$, which is equivalent to $\\underset{c\\in \\{0,1\\}}{\\operatorname{argmax}} P(d|c)P(c)$.\n",
        "\n",
        "The equivalence holds because $P(d)$ is the same for any $c$. Thus the denominator can be dropped.\n",
        "\n",
        "Denote $d=\\{x_1, x_2, ..., x_n\\}$ where $x_i$'s are words in the news *d* (sometimes called features). Unlike n-gram language modelling, we make the multinomial Naive Bayes independence assumption here, where we assume positions of words do not matter. Formally, \n",
        "\\begin{align*}\n",
        "&\\underset{c\\in \\{0,1\\}}{\\operatorname{argmax}} P(d|c)P(c)\\\\\n",
        "=&\\underset{c\\in \\{0,1\\}}{\\operatorname{argmax}} P(x_1, ..., x_n|c)P(c)\\\\\n",
        "=&\\underset{c\\in \\{0,1\\}}{\\operatorname{argmax}} P(x_1|c)P(x_2|c)...P(x_n|c)\n",
        "\\end{align*}\n",
        "\n",
        "Now we only need to collect the occurences of each word for the classification. This is often called a **bag of words** feature. \n",
        "\n",
        "For instance, in the sentence `All for one and one for all .`, the bag of words feature would be `{\"all\": 2, \"for\": 2, \"one\": 2, \"and\": 1, \".\": 1}`. Essentially, the bag of words feature is a dictionary which maps the word to its occurences. We can see that the order is not considered here.\n",
        "\n",
        "Now, your goal is to implement the Multinomial Naive Bayes. You can use existing codes or Python packages, and adapt them to our news classification task.\n",
        "\n",
        "You might find the following packages/functions useful:\n",
        "\n",
        "* nltk.word_tokenize(), nltk.word_tokenize()\n",
        "* nltk.classify.naivebayes()\n",
        "* sklearn.feature_extraction.text\n",
        "* sklearn.naive_bayes.MultinomialNB()"
      ]
    },
    {
      "cell_type": "markdown",
      "metadata": {
        "id": "ZtQpd3ciodGZ"
      },
      "source": [
        "**Please answer the following question(s).**\n",
        "\n",
        "**Q6: Comparing Multinomial Naive Bayes with the unigram language model, which one do you expect to perform better? Why?**\n",
        "\n",
        "A: Our initial intuition is that Multinomial Naive Bayes with bag of words feature that we use here and unigram will have about the same level of performance because both models calculate the probability of a sequence of words independent of the position of a word occurrence in a sequence. \n",
        "\n",
        "However, we tried running a unigram model on test data along with Multinomial Naive Bayes. We got about 77% accuracy for unigram model whereas Multinomial Naive Bayes gave us a 95% accuracy. So, Multinomial Naive Bayes performs better than unigram language model. This might be because Multinomial Naive Bayes handles unknown words better than the way we handle it in unigram."
      ]
    },
    {
      "cell_type": "markdown",
      "metadata": {
        "id": "ZaZTryrewV4I"
      },
      "source": [
        "## 6.1 Implementation"
      ]
    },
    {
      "cell_type": "code",
      "metadata": {
        "id": "BmaInFPSwY9G",
        "outputId": "baf62f0e-f916-478b-cd37-9112f550f49c",
        "colab": {
          "base_uri": "https://localhost:8080/",
          "height": 34
        }
      },
      "source": [
        "# TODO: Naive Bayes implementation \n",
        "from sklearn.feature_extraction.text import CountVectorizer\n",
        "from sklearn.naive_bayes import MultinomialNB\n",
        "\n",
        "#creating BoW\n",
        "count_vect = CountVectorizer()\n",
        "corpus = [real_news, fake_news]\n",
        "X = count_vect.fit_transform(corpus)\n",
        "Y = [1,0]\n",
        "model = MultinomialNB()\n",
        "model.fit(X, Y)\n"
      ],
      "execution_count": null,
      "outputs": [
        {
          "output_type": "execute_result",
          "data": {
            "text/plain": [
              "MultinomialNB(alpha=1.0, class_prior=None, fit_prior=True)"
            ]
          },
          "metadata": {
            "tags": []
          },
          "execution_count": 57
        }
      ]
    },
    {
      "cell_type": "code",
      "metadata": {
        "id": "rxYKWjR922FF",
        "outputId": "8d4f7099-59fb-4fe1-8195-2e31581613cd",
        "colab": {
          "base_uri": "https://localhost:8080/",
          "height": 187
        }
      },
      "source": [
        "from sklearn.metrics import classification_report\n",
        "\n",
        "validation_corpus = [real_news_validation, fake_news_validation]\n",
        "X_valid = count_vect.transform(validation_corpus)\n",
        "y_preds = model.predict(X_valid)\n",
        "Y_valid = [1,0]\n",
        "print(classification_report(Y_valid, y_preds))\n",
        "print(y_preds)"
      ],
      "execution_count": null,
      "outputs": [
        {
          "output_type": "stream",
          "text": [
            "              precision    recall  f1-score   support\n",
            "\n",
            "           0       1.00      1.00      1.00         1\n",
            "           1       1.00      1.00      1.00         1\n",
            "\n",
            "    accuracy                           1.00         2\n",
            "   macro avg       1.00      1.00      1.00         2\n",
            "weighted avg       1.00      1.00      1.00         2\n",
            "\n",
            "[1 0]\n"
          ],
          "name": "stdout"
        }
      ]
    },
    {
      "cell_type": "markdown",
      "metadata": {
        "id": "NWurBZeiwZmT"
      },
      "source": [
        "## 6.2 Putting Everything Together and Submitting to Kaggle\n",
        "\n",
        "You should use your trained model to predict labels for all the news in `TestData.txt`. Output your predictions to a **csv** file and submit it to kaggle. The format should follow Part 6 as well.\n",
        "\n",
        "Use this Kaggle [link](https://www.kaggle.com/t/e8e4f7ee507843d1902c168529d705c8) to submit your output."
      ]
    },
    {
      "cell_type": "code",
      "metadata": {
        "id": "r3pTjTh6wjI-"
      },
      "source": [
        "# TODO: Code for predicting the test labels and generating the output file. Then submit the output file to Kaggle\n",
        "\n",
        "with open(os.path.join(dataset_path, \"NBpreds.csv\"), 'w') as csvfile:\n",
        "  filewriter = csv.writer(csvfile, delimiter=',',\n",
        "                            quotechar='|', quoting=csv.QUOTE_MINIMAL)\n",
        "  filewriter.writerow(['Id', 'Prediction'])\n",
        "  X_test = count_vect.transform(test_lst)\n",
        "  Y_preds = model.predict(X_test) \n",
        "  for i in range(len(Y_preds)):\n",
        "    filewriter.writerow([i, Y_preds[i]])"
      ],
      "execution_count": null,
      "outputs": []
    },
    {
      "cell_type": "markdown",
      "metadata": {
        "id": "9MVtIIyEzSS2"
      },
      "source": [
        "# Work Distribution\n",
        "\n",
        "**Please briefly describe how you divided the work.**\n",
        "\n",
        "Your answer: We met up and worked on the project together by pair-programming, i.e. taking turns typing and collaboratively discussing approaches.\n"
      ]
    },
    {
      "cell_type": "markdown",
      "metadata": {
        "id": "ddOznZ7P2nlI"
      },
      "source": [
        "# Project Feedback [1 point]\n",
        "It goes without saying that this is an unprecedented time. We on the course staff are trying our best to adapt our teaching, projects and everything else in the class to this new modality. We would immenselly appreciate it if you could provide us feedback (it's a super short form!!) on this project and **it's worth 1 point of your project grade**\n",
        "\n",
        "Link to the feedback form: https://forms.gle/xfonP9rJk9Uk7zaSA \n",
        "\n",
        "We will use this feedback to improve both **upcoming projects** and projects for next year. \n",
        "\n",
        "Thank you so much!"
      ]
    },
    {
      "cell_type": "markdown",
      "metadata": {
        "id": "fBrWSR2bs77m"
      },
      "source": [
        "# Submitting the Notebook\n",
        "\n",
        "1. Go to File (upper left corner) -> Download .ipynb -> submit this downloaded file to cms\n",
        "2. Run the first code block\n",
        "3. Replace our placeholder for your correct Google Drive directory structure in the 2nd code block below. Run the code block\n",
        "4. Put the name of this notebook into our placeholder in the 3rd code block. Run the code block\n",
        "5. Then go to the folder icon on the very left panel, under the orange CO logo. Click on the folder and wait for a PDF version of your notebook to appear. Might take a few minutes.\n",
        "6. Download the pdf version and submit to Gradescope"
      ]
    },
    {
      "cell_type": "code",
      "metadata": {
        "id": "8jg5v1sRzP5m"
      },
      "source": [
        "%%capture\n",
        "!apt-get install texlive texlive-xetex texlive-latex-extra pandoc\n",
        "!pip install pypandoc"
      ],
      "execution_count": null,
      "outputs": []
    },
    {
      "cell_type": "code",
      "metadata": {
        "id": "_eOenvlzzRTh"
      },
      "source": [
        "%%capture\n",
        "# the red text is a placeholder! Change it to your directory structure!\n",
        "!cp 'drive/My Drive/Colab Notebooks/4740_FA20_p1_aak85_jb123.ipynb' ./ "
      ],
      "execution_count": null,
      "outputs": []
    },
    {
      "cell_type": "code",
      "metadata": {
        "id": "BOMiIp6Uzj1S"
      },
      "source": [
        "# the red text is a placeholder! Change it to the name of this notebook!\n",
        "!jupyter nbconvert --to PDF \"4740_FA20_p1_aak85_jb123.ipynb\""
      ],
      "execution_count": null,
      "outputs": []
    },
    {
      "cell_type": "markdown",
      "metadata": {
        "id": "HvET3mDvxL2j"
      },
      "source": [
        "# You are done! ✅"
      ]
    }
  ]
}